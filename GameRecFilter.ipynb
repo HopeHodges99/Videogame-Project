{
 "cells": [
  {
   "cell_type": "code",
   "execution_count": 119,
   "id": "dc744886-6487-449a-87b9-a12ab12cf158",
   "metadata": {},
   "outputs": [],
   "source": [
    "import pandas as pd\n",
    "import matplotlib.pyplot as plt\n",
    "import seaborn as sns ##ploting and visual\n",
    "import scipy.stats as stat\n",
    "import numpy as np\n",
    "import nltk.corpus\n",
    "#nltk.download('stopwords')\n",
    "from nltk.corpus import stopwords\n",
    "import matplotlib.pyplot as plt\n",
    "\n",
    "pd.options.mode.chained_assignment = None \n",
    "import datetime\n",
    "\n",
    "%matplotlib inline\n",
    "from scipy import stats\n",
    "from sklearn.metrics.pairwise import linear_kernel # for cosine similarity\n",
    "from sklearn.feature_extraction.text import TfidfVectorizer"
   ]
  },
  {
   "cell_type": "code",
   "execution_count": 120,
   "id": "cc2fbd0d-bce3-4c5a-98b7-5755533ed1e9",
   "metadata": {},
   "outputs": [],
   "source": [
    "df= pd.read_csv(\"games.csv\")"
   ]
  },
  {
   "cell_type": "code",
   "execution_count": 121,
   "id": "519cf800-e943-4bd0-b3e2-5574c7d7b61f",
   "metadata": {},
   "outputs": [
    {
     "data": {
      "text/plain": [
       "<bound method NDFrame.head of                                              name        platform  \\\n",
       "0            The Legend of Zelda: Ocarina of Time     Nintendo 64   \n",
       "1                        Tony Hawk's Pro Skater 2     PlayStation   \n",
       "2                             Grand Theft Auto IV   PlayStation 3   \n",
       "3                                     SoulCalibur       Dreamcast   \n",
       "4                             Grand Theft Auto IV        Xbox 360   \n",
       "...                                           ...             ...   \n",
       "18795                    Fast & Furious: Showdown        Xbox 360   \n",
       "18796                     Drake of the 99 Dragons            Xbox   \n",
       "18797  Afro Samurai 2: Revenge of Kuma Volume One   PlayStation 4   \n",
       "18798   Infestation: Survivor Stories (The War Z)              PC   \n",
       "18799         Leisure Suit Larry: Box Office Bust              PC   \n",
       "\n",
       "             release_date                                            summary  \\\n",
       "0       November 23, 1998  As a young boy, Link is tricked by Ganondorf, ...   \n",
       "1      September 20, 2000  As most major publishers' development efforts ...   \n",
       "2          April 29, 2008  [Metacritic's 2008 PS3 Game of the Year; Also ...   \n",
       "3       September 8, 1999  This is a tale of souls and swords, transcendi...   \n",
       "4          April 29, 2008  [Metacritic's 2008 Xbox 360 Game of the Year; ...   \n",
       "...                   ...                                                ...   \n",
       "18795        May 21, 2013  Fast & Furious: Showdown takes some of the fra...   \n",
       "18796    November 3, 2003  Drake is out for revenge in a supernatural Hon...   \n",
       "18797  September 22, 2015  Head out on a journey of redemption, driven by...   \n",
       "18798    October 15, 2012  (Formerly known as \"The War Z\") It has been 5 ...   \n",
       "18799      March 31, 2009  The Leisure Suit Larry: Box Office Bust video ...   \n",
       "\n",
       "       meta_score user_review  \n",
       "0              99         9.1  \n",
       "1              98         7.4  \n",
       "2              98         7.7  \n",
       "3              98         8.4  \n",
       "4              98         7.9  \n",
       "...           ...         ...  \n",
       "18795          22         1.3  \n",
       "18796          22         1.7  \n",
       "18797          21         2.9  \n",
       "18798          20         1.7  \n",
       "18799          20         2.0  \n",
       "\n",
       "[18800 rows x 6 columns]>"
      ]
     },
     "execution_count": 121,
     "metadata": {},
     "output_type": "execute_result"
    }
   ],
   "source": [
    "df.head"
   ]
  },
  {
   "cell_type": "code",
   "execution_count": 122,
   "id": "a407a97c-4042-400d-b6b7-e93ef5a3af06",
   "metadata": {},
   "outputs": [],
   "source": [
    "##df = pd.DataFrame(df, columns= ['name', 'platform', 'release_date', 'summary', 'meta_score', 'user_review'])"
   ]
  },
  {
   "cell_type": "code",
   "execution_count": 123,
   "id": "f8d32528-ca25-4374-89c0-5f1f7083d111",
   "metadata": {},
   "outputs": [
    {
     "data": {
      "text/plain": [
       "(18800, 6)"
      ]
     },
     "execution_count": 123,
     "metadata": {},
     "output_type": "execute_result"
    }
   ],
   "source": [
    "df.shape"
   ]
  },
  {
   "cell_type": "code",
   "execution_count": 128,
   "id": "a7be2ffb-c858-4803-84f6-7ec47c85d7ca",
   "metadata": {},
   "outputs": [
    {
     "ename": "SyntaxError",
     "evalue": "unexpected character after line continuation character (2842753278.py, line 1)",
     "output_type": "error",
     "traceback": [
      "\u001b[0;36m  File \u001b[0;32m\"/var/folders/l8/z5jtbjgx7xg8pwl0g1mdd2fh0000gn/T/ipykernel_33311/2842753278.py\"\u001b[0;36m, line \u001b[0;32m1\u001b[0m\n\u001b[0;31m    df= df.loc[df[ platform  \\] == 'Wii U']\u001b[0m\n\u001b[0m                                          ^\u001b[0m\n\u001b[0;31mSyntaxError\u001b[0m\u001b[0;31m:\u001b[0m unexpected character after line continuation character\n"
     ]
    }
   ],
   "source": [
    "df= df.loc[df[ platform  \\] == 'Wii U']"
   ]
  },
  {
   "cell_type": "code",
   "execution_count": 125,
   "id": "3e64dbd6-5faa-413d-87be-58e95b36fe48",
   "metadata": {},
   "outputs": [],
   "source": [
    "#df = df[df[\"summary\"].str.contains(\"spin-off|DLC|Expansion\") == False]\n",
    "#df.shape"
   ]
  },
  {
   "cell_type": "code",
   "execution_count": 127,
   "id": "230a5c4d-1fa4-4610-9c5d-8cd5e7c17711",
   "metadata": {},
   "outputs": [
    {
     "data": {
      "text/plain": [
       "(0, 6)"
      ]
     },
     "execution_count": 127,
     "metadata": {},
     "output_type": "execute_result"
    }
   ],
   "source": [
    "df.shape"
   ]
  },
  {
   "cell_type": "code",
   "execution_count": 88,
   "id": "0baf67fb-57e0-4f64-97f9-5a0f4df3bb99",
   "metadata": {},
   "outputs": [],
   "source": [
    "#df2= df.loc[df['platform'] == 'PC']"
   ]
  },
  {
   "cell_type": "code",
   "execution_count": 115,
   "id": "17e2638b-35d4-4374-a593-7e652e9f6fe1",
   "metadata": {},
   "outputs": [
    {
     "ename": "KeyError",
     "evalue": "\"None of ['PC'] are in the columns\"",
     "output_type": "error",
     "traceback": [
      "\u001b[0;31m---------------------------------------------------------------------------\u001b[0m",
      "\u001b[0;31mKeyError\u001b[0m                                  Traceback (most recent call last)",
      "\u001b[0;32m/var/folders/l8/z5jtbjgx7xg8pwl0g1mdd2fh0000gn/T/ipykernel_33311/2332423086.py\u001b[0m in \u001b[0;36m<module>\u001b[0;34m\u001b[0m\n\u001b[0;32m----> 1\u001b[0;31m \u001b[0mdf\u001b[0m\u001b[0;34m.\u001b[0m\u001b[0mset_index\u001b[0m\u001b[0;34m(\u001b[0m\u001b[0;34m'PC'\u001b[0m\u001b[0;34m,\u001b[0m \u001b[0minplace\u001b[0m\u001b[0;34m=\u001b[0m\u001b[0;32mTrue\u001b[0m\u001b[0;34m)\u001b[0m\u001b[0;34m\u001b[0m\u001b[0;34m\u001b[0m\u001b[0m\n\u001b[0m\u001b[1;32m      2\u001b[0m \u001b[0mprint\u001b[0m\u001b[0;34m(\u001b[0m\u001b[0mdf\u001b[0m\u001b[0;34m.\u001b[0m\u001b[0mloc\u001b[0m\u001b[0;34m[\u001b[0m\u001b[0;34m[\u001b[0m\u001b[0;34m'platform'\u001b[0m\u001b[0;34m]\u001b[0m\u001b[0;34m]\u001b[0m\u001b[0;34m)\u001b[0m\u001b[0;34m\u001b[0m\u001b[0;34m\u001b[0m\u001b[0m\n",
      "\u001b[0;32m~/Desktop/AN/anaconda3/lib/python3.9/site-packages/pandas/util/_decorators.py\u001b[0m in \u001b[0;36mwrapper\u001b[0;34m(*args, **kwargs)\u001b[0m\n\u001b[1;32m    309\u001b[0m                     \u001b[0mstacklevel\u001b[0m\u001b[0;34m=\u001b[0m\u001b[0mstacklevel\u001b[0m\u001b[0;34m,\u001b[0m\u001b[0;34m\u001b[0m\u001b[0;34m\u001b[0m\u001b[0m\n\u001b[1;32m    310\u001b[0m                 )\n\u001b[0;32m--> 311\u001b[0;31m             \u001b[0;32mreturn\u001b[0m \u001b[0mfunc\u001b[0m\u001b[0;34m(\u001b[0m\u001b[0;34m*\u001b[0m\u001b[0margs\u001b[0m\u001b[0;34m,\u001b[0m \u001b[0;34m**\u001b[0m\u001b[0mkwargs\u001b[0m\u001b[0;34m)\u001b[0m\u001b[0;34m\u001b[0m\u001b[0;34m\u001b[0m\u001b[0m\n\u001b[0m\u001b[1;32m    312\u001b[0m \u001b[0;34m\u001b[0m\u001b[0m\n\u001b[1;32m    313\u001b[0m         \u001b[0;32mreturn\u001b[0m \u001b[0mwrapper\u001b[0m\u001b[0;34m\u001b[0m\u001b[0;34m\u001b[0m\u001b[0m\n",
      "\u001b[0;32m~/Desktop/AN/anaconda3/lib/python3.9/site-packages/pandas/core/frame.py\u001b[0m in \u001b[0;36mset_index\u001b[0;34m(self, keys, drop, append, inplace, verify_integrity)\u001b[0m\n\u001b[1;32m   5449\u001b[0m \u001b[0;34m\u001b[0m\u001b[0m\n\u001b[1;32m   5450\u001b[0m         \u001b[0;32mif\u001b[0m \u001b[0mmissing\u001b[0m\u001b[0;34m:\u001b[0m\u001b[0;34m\u001b[0m\u001b[0;34m\u001b[0m\u001b[0m\n\u001b[0;32m-> 5451\u001b[0;31m             \u001b[0;32mraise\u001b[0m \u001b[0mKeyError\u001b[0m\u001b[0;34m(\u001b[0m\u001b[0;34mf\"None of {missing} are in the columns\"\u001b[0m\u001b[0;34m)\u001b[0m\u001b[0;34m\u001b[0m\u001b[0;34m\u001b[0m\u001b[0m\n\u001b[0m\u001b[1;32m   5452\u001b[0m \u001b[0;34m\u001b[0m\u001b[0m\n\u001b[1;32m   5453\u001b[0m         \u001b[0;32mif\u001b[0m \u001b[0minplace\u001b[0m\u001b[0;34m:\u001b[0m\u001b[0;34m\u001b[0m\u001b[0;34m\u001b[0m\u001b[0m\n",
      "\u001b[0;31mKeyError\u001b[0m: \"None of ['PC'] are in the columns\""
     ]
    }
   ],
   "source": [
    "df.set_index('PC', inplace=True)\n",
    "print(df.loc[['platform']])"
   ]
  },
  {
   "cell_type": "code",
   "execution_count": 70,
   "id": "17cb04fb-602a-4064-b391-9e23493c67f5",
   "metadata": {},
   "outputs": [
    {
     "data": {
      "text/html": [
       "<div>\n",
       "<style scoped>\n",
       "    .dataframe tbody tr th:only-of-type {\n",
       "        vertical-align: middle;\n",
       "    }\n",
       "\n",
       "    .dataframe tbody tr th {\n",
       "        vertical-align: top;\n",
       "    }\n",
       "\n",
       "    .dataframe thead th {\n",
       "        text-align: right;\n",
       "    }\n",
       "</style>\n",
       "<table border=\"1\" class=\"dataframe\">\n",
       "  <thead>\n",
       "    <tr style=\"text-align: right;\">\n",
       "      <th></th>\n",
       "      <th>name</th>\n",
       "      <th>platform</th>\n",
       "      <th>release_date</th>\n",
       "      <th>summary</th>\n",
       "      <th>meta_score</th>\n",
       "      <th>user_review</th>\n",
       "    </tr>\n",
       "  </thead>\n",
       "  <tbody>\n",
       "  </tbody>\n",
       "</table>\n",
       "</div>"
      ],
      "text/plain": [
       "Empty DataFrame\n",
       "Columns: [name, platform, release_date, summary, meta_score, user_review]\n",
       "Index: []"
      ]
     },
     "execution_count": 70,
     "metadata": {},
     "output_type": "execute_result"
    }
   ],
   "source": [
    "AND"
   ]
  },
  {
   "cell_type": "code",
   "execution_count": 69,
   "id": "90c6cc49-fd3d-4510-b931-7109b2c4c436",
   "metadata": {},
   "outputs": [
    {
     "data": {
      "text/html": [
       "<div>\n",
       "<style scoped>\n",
       "    .dataframe tbody tr th:only-of-type {\n",
       "        vertical-align: middle;\n",
       "    }\n",
       "\n",
       "    .dataframe tbody tr th {\n",
       "        vertical-align: top;\n",
       "    }\n",
       "\n",
       "    .dataframe thead th {\n",
       "        text-align: right;\n",
       "    }\n",
       "</style>\n",
       "<table border=\"1\" class=\"dataframe\">\n",
       "  <thead>\n",
       "    <tr style=\"text-align: right;\">\n",
       "      <th></th>\n",
       "      <th>name</th>\n",
       "      <th>platform</th>\n",
       "      <th>release_date</th>\n",
       "      <th>summary</th>\n",
       "      <th>meta_score</th>\n",
       "      <th>user_review</th>\n",
       "    </tr>\n",
       "  </thead>\n",
       "  <tbody>\n",
       "  </tbody>\n",
       "</table>\n",
       "</div>"
      ],
      "text/plain": [
       "Empty DataFrame\n",
       "Columns: [name, platform, release_date, summary, meta_score, user_review]\n",
       "Index: []"
      ]
     },
     "execution_count": 69,
     "metadata": {},
     "output_type": "execute_result"
    }
   ],
   "source": [
    "df2"
   ]
  },
  {
   "cell_type": "code",
   "execution_count": null,
   "id": "ee9f45aa-b7c6-439a-afb5-decd46be947b",
   "metadata": {},
   "outputs": [],
   "source": []
  }
 ],
 "metadata": {
  "kernelspec": {
   "display_name": "Python 3 (ipykernel)",
   "language": "python",
   "name": "python3"
  },
  "language_info": {
   "codemirror_mode": {
    "name": "ipython",
    "version": 3
   },
   "file_extension": ".py",
   "mimetype": "text/x-python",
   "name": "python",
   "nbconvert_exporter": "python",
   "pygments_lexer": "ipython3",
   "version": "3.9.7"
  }
 },
 "nbformat": 4,
 "nbformat_minor": 5
}
