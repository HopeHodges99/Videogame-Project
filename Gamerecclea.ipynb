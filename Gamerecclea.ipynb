{
 "cells": [
  {
   "cell_type": "code",
   "execution_count": 326,
   "id": "3f130bfb-d73f-43ac-85dd-7290be3e6051",
   "metadata": {},
   "outputs": [],
   "source": [
    "import pandas as pd\n",
    "import matplotlib.pyplot as plt\n",
    "import seaborn as sns ##ploting and visual\n",
    "import scipy.stats as stat\n",
    "import numpy as np\n",
    "import nltk.corpus\n",
    "#nltk.download('stopwords')\n",
    "from nltk.corpus import stopwords\n",
    "import matplotlib.pyplot as plt\n",
    "\n",
    "pd.options.mode.chained_assignment = None \n",
    "import datetime\n",
    "\n",
    "%matplotlib inline\n",
    "from scipy import stats\n",
    "from sklearn.metrics.pairwise import linear_kernel # for cosine similarity\n",
    "from sklearn.feature_extraction.text import TfidfVectorizer"
   ]
  },
  {
   "cell_type": "code",
   "execution_count": 327,
   "id": "ebec70b6-16a6-41db-a115-2c9a1efd6867",
   "metadata": {},
   "outputs": [],
   "source": [
    "df= pd.read_csv(\"games.csv\")"
   ]
  },
  {
   "cell_type": "code",
   "execution_count": 328,
   "id": "46d7759b-70b0-4f15-9642-33112b850baf",
   "metadata": {},
   "outputs": [
    {
     "data": {
      "text/plain": [
       "(18800, 6)"
      ]
     },
     "execution_count": 328,
     "metadata": {},
     "output_type": "execute_result"
    }
   ],
   "source": [
    "df.shape"
   ]
  },
  {
   "cell_type": "code",
   "execution_count": 329,
   "id": "93cdd592-fa07-44e2-b433-f6dff2cf73eb",
   "metadata": {},
   "outputs": [],
   "source": [
    "df.drop_duplicates('name',keep='first', inplace=True)\n",
    "\n",
    "df.reset_index(drop=True, inplace=True)"
   ]
  },
  {
   "cell_type": "code",
   "execution_count": 330,
   "id": "700144bc-9999-474f-b737-df974c4fdbcb",
   "metadata": {},
   "outputs": [
    {
     "data": {
      "text/plain": [
       "(12254, 6)"
      ]
     },
     "execution_count": 330,
     "metadata": {},
     "output_type": "execute_result"
    }
   ],
   "source": [
    "df.shape"
   ]
  },
  {
   "cell_type": "code",
   "execution_count": 331,
   "id": "58c38e99-caad-4e3b-bc84-8802bfd17f44",
   "metadata": {},
   "outputs": [],
   "source": [
    "df = df[df[\"summary\"].str.contains(\"spin-off|DLC|Expansion\") == False]"
   ]
  },
  {
   "cell_type": "code",
   "execution_count": 332,
   "id": "e2ff7ac1-ef5a-4e31-9f47-68c9ea35d92d",
   "metadata": {},
   "outputs": [
    {
     "data": {
      "text/plain": [
       "(12030, 6)"
      ]
     },
     "execution_count": 332,
     "metadata": {},
     "output_type": "execute_result"
    }
   ],
   "source": [
    "df.shape"
   ]
  },
  {
   "cell_type": "code",
   "execution_count": 333,
   "id": "342d2edb-5aca-4eec-aa35-93edb652572d",
   "metadata": {},
   "outputs": [
    {
     "name": "stderr",
     "output_type": "stream",
     "text": [
      "/var/folders/l8/z5jtbjgx7xg8pwl0g1mdd2fh0000gn/T/ipykernel_64054/1066207659.py:3: FutureWarning: The default value of regex will change from True to False in a future version.\n",
      "  df['s'] = df['s'].str.replace(r'[^\\w\\s]+', '')\n"
     ]
    },
    {
     "name": "stdout",
     "output_type": "stream",
     "text": [
      "0        as a young boy link is tricked by ganondorf th...\n",
      "1        as most major publishers development efforts s...\n",
      "2        metacritics 2008 ps3 game of the year also kno...\n",
      "3        this is a tale of souls and swords transcendin...\n",
      "4        metacritics 2007 wii game of the year the ulti...\n",
      "                               ...                        \n",
      "12249    join natalie dylan and alex for an intense adv...\n",
      "12250    fast  furious showdown takes some of the franc...\n",
      "12251    drake is out for revenge in a supernatural hon...\n",
      "12252    head out on a journey of redemption driven by ...\n",
      "12253    formerly known as the war z it has been 5 year...\n",
      "Name: s, Length: 12030, dtype: object\n"
     ]
    }
   ],
   "source": [
    "df.rename(columns={'summary': 's'}, inplace=True)\n",
    "df['s']=df['s'].str.lower()\n",
    "df['s'] = df['s'].str.replace(r'[^\\w\\s]+', '')\n",
    "print(df['s'])\n"
   ]
  },
  {
   "cell_type": "code",
   "execution_count": 334,
   "id": "e6e462c7-2c41-4b9a-bdc8-c547275db04a",
   "metadata": {},
   "outputs": [],
   "source": [
    "null_rows = df[df['s'].isnull()].index\n",
    "\n",
    "df.drop(index=null_rows, inplace=True)"
   ]
  },
  {
   "cell_type": "code",
   "execution_count": 335,
   "id": "52a7fbfd-d668-4c57-9067-c6a5b9f4832d",
   "metadata": {},
   "outputs": [
    {
     "name": "stdout",
     "output_type": "stream",
     "text": [
      "0        young boy link tricked ganondorf king gerudo t...\n",
      "1        major publishers development efforts shift num...\n",
      "2        metacritics 2008 ps3 game year also known gta ...\n",
      "3        tale souls swords transcending world history t...\n",
      "4        metacritics 2007 wii game year ultimate ninten...\n",
      "                               ...                        \n",
      "12249    join natalie dylan alex intense adventure base...\n",
      "12250    fast furious showdown takes franchises iconic ...\n",
      "12251    drake revenge supernatural hong kong world you...\n",
      "12252    head journey redemption driven bittersweet rev...\n",
      "12253    formerly known war z 5 years since outbreak gi...\n",
      "Name: s, Length: 12030, dtype: object\n"
     ]
    }
   ],
   "source": [
    "stop_words = stopwords.words('english')\n",
    "df['s'] = df['s'].apply(lambda x: ' '.join([word for word in x.split() if word not in (stop_words)]))\n",
    "print(df['s'])"
   ]
  },
  {
   "cell_type": "code",
   "execution_count": 347,
   "id": "ac8a3034-474e-466f-970f-0490f971545d",
   "metadata": {},
   "outputs": [
    {
     "name": "stdout",
     "output_type": "stream",
     "text": [
      "<class 'pandas.core.frame.DataFrame'>\n",
      "Int64Index: 7848 entries, 0 to 8693\n",
      "Data columns (total 6 columns):\n",
      " #   Column        Non-Null Count  Dtype  \n",
      "---  ------        --------------  -----  \n",
      " 0   name          7848 non-null   object \n",
      " 1   platform      7848 non-null   object \n",
      " 2   release_date  7848 non-null   object \n",
      " 3   s             7848 non-null   object \n",
      " 4   meta_score    7848 non-null   float64\n",
      " 5   user_review   7848 non-null   float64\n",
      "dtypes: float64(2), object(4)\n",
      "memory usage: 687.2+ KB\n"
     ]
    }
   ],
   "source": [
    "df2 = df.drop(df[df['user_review'] == 'tbd'].index)\n",
    "df2[\"user_review\"] = df[\"user_review\"].astype(str).astype(float)\n",
    "df2[\"meta_score\"] = df[\"meta_score\"].astype(str).astype(float)\n",
    "df2.info()"
   ]
  },
  {
   "cell_type": "code",
   "execution_count": 348,
   "id": "b767b2ea-accc-451a-94e0-2e3af420cf79",
   "metadata": {},
   "outputs": [],
   "source": [
    "df3 = df2[~df.platform.str.contains(\"Dreamcast\")]\n",
    "df4 = df3[~df.platform.str.contains(\"PlayStation Vita\")]"
   ]
  },
  {
   "cell_type": "code",
   "execution_count": 349,
   "id": "54f4480a-b831-4cc5-ab77-13c122172335",
   "metadata": {},
   "outputs": [
    {
     "data": {
      "text/html": [
       "<div>\n",
       "<style scoped>\n",
       "    .dataframe tbody tr th:only-of-type {\n",
       "        vertical-align: middle;\n",
       "    }\n",
       "\n",
       "    .dataframe tbody tr th {\n",
       "        vertical-align: top;\n",
       "    }\n",
       "\n",
       "    .dataframe thead th {\n",
       "        text-align: right;\n",
       "    }\n",
       "</style>\n",
       "<table border=\"1\" class=\"dataframe\">\n",
       "  <thead>\n",
       "    <tr style=\"text-align: right;\">\n",
       "      <th></th>\n",
       "      <th>name</th>\n",
       "      <th>platform</th>\n",
       "      <th>release_date</th>\n",
       "      <th>s</th>\n",
       "      <th>meta_score</th>\n",
       "      <th>user_review</th>\n",
       "    </tr>\n",
       "  </thead>\n",
       "  <tbody>\n",
       "    <tr>\n",
       "      <th>0</th>\n",
       "      <td>The Legend of Zelda: Ocarina of Time</td>\n",
       "      <td>Nintendo 64</td>\n",
       "      <td>November 23, 1998</td>\n",
       "      <td>young boy link tricked ganondorf king gerudo t...</td>\n",
       "      <td>99.0</td>\n",
       "      <td>9.1</td>\n",
       "    </tr>\n",
       "    <tr>\n",
       "      <th>1</th>\n",
       "      <td>Tony Hawk's Pro Skater 2</td>\n",
       "      <td>PlayStation</td>\n",
       "      <td>September 20, 2000</td>\n",
       "      <td>major publishers development efforts shift num...</td>\n",
       "      <td>98.0</td>\n",
       "      <td>7.4</td>\n",
       "    </tr>\n",
       "    <tr>\n",
       "      <th>2</th>\n",
       "      <td>Grand Theft Auto IV</td>\n",
       "      <td>PlayStation 3</td>\n",
       "      <td>April 29, 2008</td>\n",
       "      <td>metacritics 2008 ps3 game year also known gta ...</td>\n",
       "      <td>98.0</td>\n",
       "      <td>7.7</td>\n",
       "    </tr>\n",
       "    <tr>\n",
       "      <th>4</th>\n",
       "      <td>Super Mario Galaxy</td>\n",
       "      <td>Wii</td>\n",
       "      <td>November 12, 2007</td>\n",
       "      <td>metacritics 2007 wii game year ultimate ninten...</td>\n",
       "      <td>97.0</td>\n",
       "      <td>9.1</td>\n",
       "    </tr>\n",
       "    <tr>\n",
       "      <th>5</th>\n",
       "      <td>Super Mario Galaxy 2</td>\n",
       "      <td>Wii</td>\n",
       "      <td>May 23, 2010</td>\n",
       "      <td>super mario galaxy 2 sequel galaxyhopping orig...</td>\n",
       "      <td>97.0</td>\n",
       "      <td>9.1</td>\n",
       "    </tr>\n",
       "    <tr>\n",
       "      <th>...</th>\n",
       "      <td>...</td>\n",
       "      <td>...</td>\n",
       "      <td>...</td>\n",
       "      <td>...</td>\n",
       "      <td>...</td>\n",
       "      <td>...</td>\n",
       "    </tr>\n",
       "    <tr>\n",
       "      <th>8688</th>\n",
       "      <td>AirForce Delta Strike</td>\n",
       "      <td>PlayStation 2</td>\n",
       "      <td>February 3, 2004</td>\n",
       "      <td>also known airforce delta blue wing knights st...</td>\n",
       "      <td>66.0</td>\n",
       "      <td>7.0</td>\n",
       "    </tr>\n",
       "    <tr>\n",
       "      <th>8689</th>\n",
       "      <td>American Conquest: Fight Back</td>\n",
       "      <td>PC</td>\n",
       "      <td>September 29, 2003</td>\n",
       "      <td>three centuries war continue even frantic comb...</td>\n",
       "      <td>66.0</td>\n",
       "      <td>8.1</td>\n",
       "    </tr>\n",
       "    <tr>\n",
       "      <th>8690</th>\n",
       "      <td>Tomb Raider: The Prophecy</td>\n",
       "      <td>Game Boy Advance</td>\n",
       "      <td>November 12, 2002</td>\n",
       "      <td>tomb raider prophecy delivers full tomb raider...</td>\n",
       "      <td>66.0</td>\n",
       "      <td>8.3</td>\n",
       "    </tr>\n",
       "    <tr>\n",
       "      <th>8691</th>\n",
       "      <td>Home Run King</td>\n",
       "      <td>GameCube</td>\n",
       "      <td>March 18, 2002</td>\n",
       "      <td>first pitch opening day final world series hom...</td>\n",
       "      <td>66.0</td>\n",
       "      <td>7.5</td>\n",
       "    </tr>\n",
       "    <tr>\n",
       "      <th>8693</th>\n",
       "      <td>Disney's The Emperor's New Groove</td>\n",
       "      <td>PlayStation</td>\n",
       "      <td>November 13, 2000</td>\n",
       "      <td>take selfabsorbed emperor named kuzco add devi...</td>\n",
       "      <td>66.0</td>\n",
       "      <td>7.3</td>\n",
       "    </tr>\n",
       "  </tbody>\n",
       "</table>\n",
       "<p>7848 rows × 6 columns</p>\n",
       "</div>"
      ],
      "text/plain": [
       "                                      name           platform  \\\n",
       "0     The Legend of Zelda: Ocarina of Time        Nintendo 64   \n",
       "1                 Tony Hawk's Pro Skater 2        PlayStation   \n",
       "2                      Grand Theft Auto IV      PlayStation 3   \n",
       "4                       Super Mario Galaxy                Wii   \n",
       "5                     Super Mario Galaxy 2                Wii   \n",
       "...                                    ...                ...   \n",
       "8688                 AirForce Delta Strike      PlayStation 2   \n",
       "8689         American Conquest: Fight Back                 PC   \n",
       "8690             Tomb Raider: The Prophecy   Game Boy Advance   \n",
       "8691                         Home Run King           GameCube   \n",
       "8693     Disney's The Emperor's New Groove        PlayStation   \n",
       "\n",
       "            release_date                                                  s  \\\n",
       "0      November 23, 1998  young boy link tricked ganondorf king gerudo t...   \n",
       "1     September 20, 2000  major publishers development efforts shift num...   \n",
       "2         April 29, 2008  metacritics 2008 ps3 game year also known gta ...   \n",
       "4      November 12, 2007  metacritics 2007 wii game year ultimate ninten...   \n",
       "5           May 23, 2010  super mario galaxy 2 sequel galaxyhopping orig...   \n",
       "...                  ...                                                ...   \n",
       "8688    February 3, 2004  also known airforce delta blue wing knights st...   \n",
       "8689  September 29, 2003  three centuries war continue even frantic comb...   \n",
       "8690   November 12, 2002  tomb raider prophecy delivers full tomb raider...   \n",
       "8691      March 18, 2002  first pitch opening day final world series hom...   \n",
       "8693   November 13, 2000  take selfabsorbed emperor named kuzco add devi...   \n",
       "\n",
       "      meta_score  user_review  \n",
       "0           99.0          9.1  \n",
       "1           98.0          7.4  \n",
       "2           98.0          7.7  \n",
       "4           97.0          9.1  \n",
       "5           97.0          9.1  \n",
       "...          ...          ...  \n",
       "8688        66.0          7.0  \n",
       "8689        66.0          8.1  \n",
       "8690        66.0          8.3  \n",
       "8691        66.0          7.5  \n",
       "8693        66.0          7.3  \n",
       "\n",
       "[7848 rows x 6 columns]"
      ]
     },
     "execution_count": 349,
     "metadata": {},
     "output_type": "execute_result"
    }
   ],
   "source": [
    "condition = df4['meta_score'] > 65\n",
    "true_index = condition[condition == True].index\n",
    "df5 =df4[condition]\n",
    "df5"
   ]
  },
  {
   "cell_type": "code",
   "execution_count": 351,
   "id": "2383e4c1-121d-40a3-9141-fb1d759303dc",
   "metadata": {},
   "outputs": [
    {
     "data": {
      "text/plain": [
       "(7848, 6)"
      ]
     },
     "execution_count": 351,
     "metadata": {},
     "output_type": "execute_result"
    }
   ],
   "source": [
    "df5.shape"
   ]
  },
  {
   "cell_type": "code",
   "execution_count": 361,
   "id": "8d1f448e-22f2-481c-aa05-be75f3196c83",
   "metadata": {},
   "outputs": [
    {
     "data": {
      "text/plain": [
       "RangeIndex(start=0, stop=7848, step=1)"
      ]
     },
     "execution_count": 361,
     "metadata": {},
     "output_type": "execute_result"
    }
   ],
   "source": [
    "df5.reset_index(drop=True, inplace=True)\n",
    "\n",
    "df5.index"
   ]
  },
  {
   "cell_type": "code",
   "execution_count": 383,
   "id": "4964a71b-2740-4458-966c-57692b31829e",
   "metadata": {},
   "outputs": [
    {
     "data": {
      "text/plain": [
       "(7848, 35011)"
      ]
     },
     "execution_count": 383,
     "metadata": {},
     "output_type": "execute_result"
    }
   ],
   "source": [
    "#First I did TF-IDF Vectorizer\n",
    "tfidf = TfidfVectorizer()\n",
    "\n",
    "#Created the matrix\n",
    "tfidf_matrix = tfidf.fit_transform([str(i) for i in df['s']])\n",
    "\n",
    "#Output the shape of matrix\n",
    "tfidf_matrix.shape"
   ]
  },
  {
   "cell_type": "code",
   "execution_count": 363,
   "id": "0ef52de0-4714-44a0-b385-91fc24b02d58",
   "metadata": {},
   "outputs": [
    {
     "data": {
      "text/plain": [
       "array([[1.        , 0.        , 0.0227759 , ..., 0.        , 0.0274081 ,\n",
       "        0.00709838],\n",
       "       [0.        , 1.        , 0.00799464, ..., 0.        , 0.05309602,\n",
       "        0.        ],\n",
       "       [0.0227759 , 0.00799464, 1.        , ..., 0.        , 0.01036121,\n",
       "        0.        ],\n",
       "       ...,\n",
       "       [0.        , 0.        , 0.        , ..., 1.        , 0.        ,\n",
       "        0.        ],\n",
       "       [0.0274081 , 0.05309602, 0.01036121, ..., 0.        , 1.        ,\n",
       "        0.        ],\n",
       "       [0.00709838, 0.        , 0.        , ..., 0.        , 0.        ,\n",
       "        1.        ]])"
      ]
     },
     "execution_count": 363,
     "metadata": {},
     "output_type": "execute_result"
    }
   ],
   "source": [
    "cosine = linear_kernel(tfidf_matrix, tfidf_matrix)\n",
    "\n",
    "cosine"
   ]
  },
  {
   "cell_type": "code",
   "execution_count": 364,
   "id": "4c6cb2f3-9efd-4daf-bf76-7b7e03175f6b",
   "metadata": {},
   "outputs": [
    {
     "data": {
      "text/plain": [
       "name\n",
       "The Legend of Zelda: Ocarina of Time       0\n",
       "Tony Hawk's Pro Skater 2                   1\n",
       "Grand Theft Auto IV                        2\n",
       "Super Mario Galaxy                         3\n",
       "Super Mario Galaxy 2                       4\n",
       "                                        ... \n",
       "AirForce Delta Strike                   7843\n",
       "American Conquest: Fight Back           7844\n",
       "Tomb Raider: The Prophecy               7845\n",
       "Home Run King                           7846\n",
       "Disney's The Emperor's New Groove       7847\n",
       "Length: 7848, dtype: int64"
      ]
     },
     "execution_count": 364,
     "metadata": {},
     "output_type": "execute_result"
    }
   ],
   "source": [
    "# reverse the indices and video game titles\n",
    "\n",
    "indices = pd.Series(df5.index, index=df5['name'])\n",
    "\n",
    "indices"
   ]
  },
  {
   "cell_type": "code",
   "execution_count": 365,
   "id": "adf3ce4c-ec2a-418b-8dd7-4c3ecfa067a8",
   "metadata": {},
   "outputs": [],
   "source": [
    "def recommender_system(title, cosine=cosine):\n",
    "    \n",
    "    # get index of video game that matches title\n",
    "    \n",
    "    index = indices[title]\n",
    "    \n",
    "    # get pairwise similarity scores of all video games with the given title\n",
    "    \n",
    "    sim_scores = list(enumerate(cosine[index]))\n",
    "    \n",
    "    # sort games based on similarity scores\n",
    "    \n",
    "    sim_scores = sorted(sim_scores, key=lambda x: x[1], reverse=True)\n",
    "    \n",
    "    # get scores of 10 most similar video games\n",
    "    \n",
    "    sim_scores = sim_scores[1:11]\n",
    "    \n",
    "    # get game indices\n",
    "    \n",
    "    game_indices = [i[0] for i in sim_scores]\n",
    "    \n",
    "    # return top 10 most similar video games\n",
    "    \n",
    "    recs = df5['name'].iloc[game_indices]\n",
    "    \n",
    "    return recs"
   ]
  },
  {
   "cell_type": "code",
   "execution_count": 366,
   "id": "838bb86d-7432-4689-9a5d-6c491968c3fa",
   "metadata": {},
   "outputs": [
    {
     "data": {
      "text/plain": [
       "5836          Assassin's Creed: The Ezio Collection\n",
       "6827                 Assassin's Creed II: Discovery\n",
       "2633         Assassin's Creed: The Rebel Collection\n",
       "5987    Assassin's Creed Syndicate: Jack the Ripper\n",
       "6969             Assassin's Creed Chronicles: China\n",
       "1123                       Assassin's Creed Origins\n",
       "337                   Assassin's Creed: Brotherhood\n",
       "2335                               Assassin's Creed\n",
       "3091       Assassin's Creed: Director's Cut Edition\n",
       "5608                           Creed: Rise to Glory\n",
       "Name: name, dtype: object"
      ]
     },
     "execution_count": 366,
     "metadata": {},
     "output_type": "execute_result"
    }
   ],
   "source": [
    "recommender_system(\"Assassin's Creed II\")"
   ]
  },
  {
   "cell_type": "code",
   "execution_count": 367,
   "id": "08f4adb2-7639-4968-a9ea-1688dc162116",
   "metadata": {},
   "outputs": [
    {
     "data": {
      "text/plain": [
       "2071                              Mario Kart Wii\n",
       "727                    New Super Mario Bros. Wii\n",
       "99                          Super Mario 3D World\n",
       "6951                        Mario Super Sluggers\n",
       "2003                    Super Mario 3D All-Stars\n",
       "156     Super Mario World: Super Mario Advance 2\n",
       "901                                  Punch-Out!!\n",
       "2657                           Wii Sports Resort\n",
       "3683                       Wario Land: Shake It!\n",
       "4321                    Mario & Luigi: Paper Jam\n",
       "Name: name, dtype: object"
      ]
     },
     "execution_count": 367,
     "metadata": {},
     "output_type": "execute_result"
    }
   ],
   "source": [
    "recommender_system(\"Super Mario Galaxy\")"
   ]
  },
  {
   "cell_type": "code",
   "execution_count": 378,
   "id": "f9dc5b60-345d-49da-a219-0bb675fa949d",
   "metadata": {},
   "outputs": [
    {
     "data": {
      "text/plain": [
       "6984    Friday The 13th: The Game - Ultimate Slasher S...\n",
       "4278                       Friday the 13th: Killer Puzzle\n",
       "1073                               Blaster Master Zero II\n",
       "3601                           Far Cry Instincts Predator\n",
       "2638                                          Dead Island\n",
       "5400                          The Sims 3: Island Paradise\n",
       "1375                                              Gorogoa\n",
       "456                                               Far Cry\n",
       "5358                           The Sims: Castaway Stories\n",
       "1155                           Ys VIII: Lacrimosa of DANA\n",
       "Name: name, dtype: object"
      ]
     },
     "execution_count": 378,
     "metadata": {},
     "output_type": "execute_result"
    }
   ],
   "source": [
    "recommender_system(\"Far Cry 3\")"
   ]
  },
  {
   "cell_type": "code",
   "execution_count": null,
   "id": "7ba9202a-fc4f-4202-bd9a-4af08d1796e0",
   "metadata": {},
   "outputs": [],
   "source": []
  },
  {
   "cell_type": "code",
   "execution_count": null,
   "id": "dda062a4-a3ea-4729-b56b-a7444a00af6d",
   "metadata": {},
   "outputs": [],
   "source": []
  },
  {
   "cell_type": "code",
   "execution_count": null,
   "id": "56cca21f-e19d-4406-a195-f0753a6905cb",
   "metadata": {},
   "outputs": [],
   "source": []
  }
 ],
 "metadata": {
  "kernelspec": {
   "display_name": "Python 3 (ipykernel)",
   "language": "python",
   "name": "python3"
  },
  "language_info": {
   "codemirror_mode": {
    "name": "ipython",
    "version": 3
   },
   "file_extension": ".py",
   "mimetype": "text/x-python",
   "name": "python",
   "nbconvert_exporter": "python",
   "pygments_lexer": "ipython3",
   "version": "3.9.7"
  }
 },
 "nbformat": 4,
 "nbformat_minor": 5
}
