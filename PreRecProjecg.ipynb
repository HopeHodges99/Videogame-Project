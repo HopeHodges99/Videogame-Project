{
 "cells": [
  {
   "cell_type": "code",
   "execution_count": null,
   "id": "baac53a7-3302-492f-8a37-4c7d724b64a5",
   "metadata": {},
   "outputs": [],
   "source": [
    "import pandas as pd\n",
    "import matplotlib.pyplot as plt\n",
    "import seaborn as sns ##ploting and visual\n",
    "import scipy.stats as stat\n",
    "import numpy as np\n",
    "import nltk.corpus\n",
    "nltk.download('stopwords')\n",
    "from nltk.corpus import stopwords\n",
    "import matplotlib.pyplot as plt\n",
    "\n",
    "import datetime\n",
    "\n",
    "%matplotlib inline\n"
   ]
  },
  {
   "cell_type": "code",
   "execution_count": null,
   "id": "bb6e84d4-2290-4b90-887a-21a085cdaad4",
   "metadata": {},
   "outputs": [],
   "source": [
    "df= pd.read_csv(\"games.csv\")"
   ]
  },
  {
   "cell_type": "code",
   "execution_count": null,
   "id": "716e5e87-806b-46a6-8690-eb3a0202feb0",
   "metadata": {},
   "outputs": [],
   "source": [
    "##Cleaing up data"
   ]
  },
  {
   "cell_type": "code",
   "execution_count": null,
   "id": "d298e520-6f03-46fd-9338-fd532ccc5dbb",
   "metadata": {},
   "outputs": [],
   "source": [
    "df.drop_duplicates('name',keep='first', inplace=True)\n",
    "\n",
    "df.reset_index(drop=True, inplace=True)\n"
   ]
  },
  {
   "cell_type": "code",
   "execution_count": null,
   "id": "5c2dbfc9-34e2-41df-b1c6-5ed210625cda",
   "metadata": {},
   "outputs": [],
   "source": [
    "#Getting rid of punctuation and making everything lowercase"
   ]
  },
  {
   "cell_type": "code",
   "execution_count": 11,
   "id": "ca4b5028-aa3c-41b1-85fd-c4f213bf3c19",
   "metadata": {},
   "outputs": [
    {
     "name": "stderr",
     "output_type": "stream",
     "text": [
      "/var/folders/l8/z5jtbjgx7xg8pwl0g1mdd2fh0000gn/T/ipykernel_3826/3941936916.py:3: FutureWarning: The default value of regex will change from True to False in a future version.\n",
      "  df['s'] = df['s'].str.replace(r'[^\\w\\s]+', '')\n"
     ]
    },
    {
     "name": "stdout",
     "output_type": "stream",
     "text": [
      "0        as a young boy link is tricked by ganondorf th...\n",
      "1        as most major publishers development efforts s...\n",
      "2        metacritics 2008 ps3 game of the year also kno...\n",
      "3        this is a tale of souls and swords transcendin...\n",
      "4        metacritics 2007 wii game of the year the ulti...\n",
      "                               ...                        \n",
      "12249    join natalie dylan and alex for an intense adv...\n",
      "12250    fast  furious showdown takes some of the franc...\n",
      "12251    drake is out for revenge in a supernatural hon...\n",
      "12252    head out on a journey of redemption driven by ...\n",
      "12253    formerly known as the war z it has been 5 year...\n",
      "Name: s, Length: 12254, dtype: object\n"
     ]
    }
   ],
   "source": [
    "df.rename(columns={'summary': 's'}, inplace=True)\n",
    "df['s']=df['s'].str.lower()\n",
    "df['s'] = df['s'].str.replace(r'[^\\w\\s]+', '')\n",
    "print(df['s'])"
   ]
  },
  {
   "cell_type": "code",
   "execution_count": 12,
   "id": "0be93156-ec2d-441b-8eae-1df2a9ad3db3",
   "metadata": {},
   "outputs": [],
   "source": [
    "null_rows = df[df['s'].isnull()].index\n",
    "\n",
    "df.drop(index=null_rows, inplace=True)\n"
   ]
  },
  {
   "cell_type": "code",
   "execution_count": 13,
   "id": "486466b5-eaf9-420f-bb7c-68cf00ba388a",
   "metadata": {},
   "outputs": [],
   "source": [
    "#Getting rid of stopwords "
   ]
  },
  {
   "cell_type": "code",
   "execution_count": 14,
   "id": "c15dce39-2de7-48bc-b9f4-c1af508d3355",
   "metadata": {},
   "outputs": [],
   "source": [
    "#Do word clouds , content based and collab base, topic "
   ]
  },
  {
   "cell_type": "code",
   "execution_count": 15,
   "id": "cd2e5141-029b-4fb4-95bd-c957c0b47f47",
   "metadata": {},
   "outputs": [
    {
     "name": "stdout",
     "output_type": "stream",
     "text": [
      "0        young boy link tricked ganondorf king gerudo t...\n",
      "1        major publishers development efforts shift num...\n",
      "2        metacritics 2008 ps3 game year also known gta ...\n",
      "3        tale souls swords transcending world history t...\n",
      "4        metacritics 2007 wii game year ultimate ninten...\n",
      "                               ...                        \n",
      "12249    join natalie dylan alex intense adventure base...\n",
      "12250    fast furious showdown takes franchises iconic ...\n",
      "12251    drake revenge supernatural hong kong world you...\n",
      "12252    head journey redemption driven bittersweet rev...\n",
      "12253    formerly known war z 5 years since outbreak gi...\n",
      "Name: s, Length: 12153, dtype: object\n"
     ]
    }
   ],
   "source": [
    "stop_words = stopwords.words('english')\n",
    "df['s'] = df['s'].apply(lambda x: ' '.join([word for word in x.split() if word not in (stop_words)]))\n",
    "print(df['s'])"
   ]
  },
  {
   "cell_type": "code",
   "execution_count": 16,
   "id": "9f8064d1-1694-46da-ab47-4bbedf57e12f",
   "metadata": {},
   "outputs": [],
   "source": [
    "Df2 = df.drop(df[df['user_review'] == 'tbd'].index)\n"
   ]
  },
  {
   "cell_type": "code",
   "execution_count": 17,
   "id": "8884fe38-07d5-4aa6-9f05-25ba874ee33f",
   "metadata": {},
   "outputs": [],
   "source": [
    "##Turning my objects into floats "
   ]
  },
  {
   "cell_type": "code",
   "execution_count": 18,
   "id": "9533d0ec-f09e-4a9d-b26e-965c87b02771",
   "metadata": {},
   "outputs": [],
   "source": [
    "Df2[\"user_review\"] = Df2[\"user_review\"].astype(str).astype(float)\n"
   ]
  },
  {
   "cell_type": "code",
   "execution_count": 19,
   "id": "dca2f220-8029-4ab6-bc5c-6fdb61c99ade",
   "metadata": {},
   "outputs": [],
   "source": [
    "Df2[\"meta_score\"] = Df2[\"meta_score\"].astype(str).astype(float)\n"
   ]
  },
  {
   "cell_type": "code",
   "execution_count": 20,
   "id": "b65d3730-ce9d-45ec-906f-263462b70674",
   "metadata": {},
   "outputs": [
    {
     "name": "stdout",
     "output_type": "stream",
     "text": [
      "<class 'pandas.core.frame.DataFrame'>\n",
      "Int64Index: 11182 entries, 0 to 12253\n",
      "Data columns (total 6 columns):\n",
      " #   Column        Non-Null Count  Dtype  \n",
      "---  ------        --------------  -----  \n",
      " 0   name          11182 non-null  object \n",
      " 1   platform      11182 non-null  object \n",
      " 2   release_date  11182 non-null  object \n",
      " 3   s             11182 non-null  object \n",
      " 4   meta_score    11182 non-null  float64\n",
      " 5   user_review   11182 non-null  float64\n",
      "dtypes: float64(2), object(4)\n",
      "memory usage: 611.5+ KB\n"
     ]
    }
   ],
   "source": [
    "Df2.info()\n"
   ]
  },
  {
   "cell_type": "code",
   "execution_count": 21,
   "id": "72833ef2-1452-4b93-8acd-e94874829bb5",
   "metadata": {},
   "outputs": [
    {
     "data": {
      "text/html": [
       "<div>\n",
       "<style scoped>\n",
       "    .dataframe tbody tr th:only-of-type {\n",
       "        vertical-align: middle;\n",
       "    }\n",
       "\n",
       "    .dataframe tbody tr th {\n",
       "        vertical-align: top;\n",
       "    }\n",
       "\n",
       "    .dataframe thead th {\n",
       "        text-align: right;\n",
       "    }\n",
       "</style>\n",
       "<table border=\"1\" class=\"dataframe\">\n",
       "  <thead>\n",
       "    <tr style=\"text-align: right;\">\n",
       "      <th></th>\n",
       "      <th>meta_score</th>\n",
       "      <th>user_review</th>\n",
       "    </tr>\n",
       "  </thead>\n",
       "  <tbody>\n",
       "    <tr>\n",
       "      <th>count</th>\n",
       "      <td>11182.000000</td>\n",
       "      <td>11182.000000</td>\n",
       "    </tr>\n",
       "    <tr>\n",
       "      <th>mean</th>\n",
       "      <td>71.356108</td>\n",
       "      <td>7.070399</td>\n",
       "    </tr>\n",
       "    <tr>\n",
       "      <th>std</th>\n",
       "      <td>12.453150</td>\n",
       "      <td>1.336268</td>\n",
       "    </tr>\n",
       "    <tr>\n",
       "      <th>min</th>\n",
       "      <td>20.000000</td>\n",
       "      <td>0.500000</td>\n",
       "    </tr>\n",
       "    <tr>\n",
       "      <th>25%</th>\n",
       "      <td>65.000000</td>\n",
       "      <td>6.400000</td>\n",
       "    </tr>\n",
       "    <tr>\n",
       "      <th>50%</th>\n",
       "      <td>73.000000</td>\n",
       "      <td>7.400000</td>\n",
       "    </tr>\n",
       "    <tr>\n",
       "      <th>75%</th>\n",
       "      <td>80.000000</td>\n",
       "      <td>8.000000</td>\n",
       "    </tr>\n",
       "    <tr>\n",
       "      <th>max</th>\n",
       "      <td>99.000000</td>\n",
       "      <td>9.700000</td>\n",
       "    </tr>\n",
       "  </tbody>\n",
       "</table>\n",
       "</div>"
      ],
      "text/plain": [
       "         meta_score   user_review\n",
       "count  11182.000000  11182.000000\n",
       "mean      71.356108      7.070399\n",
       "std       12.453150      1.336268\n",
       "min       20.000000      0.500000\n",
       "25%       65.000000      6.400000\n",
       "50%       73.000000      7.400000\n",
       "75%       80.000000      8.000000\n",
       "max       99.000000      9.700000"
      ]
     },
     "execution_count": 21,
     "metadata": {},
     "output_type": "execute_result"
    }
   ],
   "source": [
    "Df2.describe()\n"
   ]
  },
  {
   "cell_type": "code",
   "execution_count": 22,
   "id": "c61ade8d-c309-45e7-baf7-c84912d96808",
   "metadata": {},
   "outputs": [],
   "source": [
    "##Getting rid of Dreamcast and Playstation Vita since they are both considered failed consoles \n"
   ]
  },
  {
   "cell_type": "code",
   "execution_count": 50,
   "id": "49e84c7c-4e2e-4606-972e-96e71cc92c5a",
   "metadata": {},
   "outputs": [],
   "source": [
    "Df3 = Df2[~Df2.platform.str.contains(\"Dreamcast\")]\n"
   ]
  },
  {
   "cell_type": "code",
   "execution_count": 51,
   "id": "65aabec3-a0a6-4300-b004-ef2c200d0f6d",
   "metadata": {},
   "outputs": [],
   "source": [
    "Df4 = Df3[~Df3.platform.str.contains(\"PlayStation Vita\")]\n"
   ]
  },
  {
   "cell_type": "code",
   "execution_count": 25,
   "id": "33fdbee2-aa04-4552-8b20-60858ba4bb03",
   "metadata": {},
   "outputs": [
    {
     "data": {
      "text/html": [
       "<div>\n",
       "<style scoped>\n",
       "    .dataframe tbody tr th:only-of-type {\n",
       "        vertical-align: middle;\n",
       "    }\n",
       "\n",
       "    .dataframe tbody tr th {\n",
       "        vertical-align: top;\n",
       "    }\n",
       "\n",
       "    .dataframe thead th {\n",
       "        text-align: right;\n",
       "    }\n",
       "</style>\n",
       "<table border=\"1\" class=\"dataframe\">\n",
       "  <thead>\n",
       "    <tr style=\"text-align: right;\">\n",
       "      <th></th>\n",
       "      <th>name</th>\n",
       "      <th>platform</th>\n",
       "      <th>release_date</th>\n",
       "      <th>s</th>\n",
       "      <th>meta_score</th>\n",
       "      <th>user_review</th>\n",
       "    </tr>\n",
       "  </thead>\n",
       "  <tbody>\n",
       "    <tr>\n",
       "      <th>0</th>\n",
       "      <td>The Legend of Zelda: Ocarina of Time</td>\n",
       "      <td>Nintendo 64</td>\n",
       "      <td>November 23, 1998</td>\n",
       "      <td>young boy link tricked ganondorf king gerudo t...</td>\n",
       "      <td>99.0</td>\n",
       "      <td>9.1</td>\n",
       "    </tr>\n",
       "    <tr>\n",
       "      <th>1</th>\n",
       "      <td>Tony Hawk's Pro Skater 2</td>\n",
       "      <td>PlayStation</td>\n",
       "      <td>September 20, 2000</td>\n",
       "      <td>major publishers development efforts shift num...</td>\n",
       "      <td>98.0</td>\n",
       "      <td>7.4</td>\n",
       "    </tr>\n",
       "    <tr>\n",
       "      <th>2</th>\n",
       "      <td>Grand Theft Auto IV</td>\n",
       "      <td>PlayStation 3</td>\n",
       "      <td>April 29, 2008</td>\n",
       "      <td>metacritics 2008 ps3 game year also known gta ...</td>\n",
       "      <td>98.0</td>\n",
       "      <td>7.7</td>\n",
       "    </tr>\n",
       "    <tr>\n",
       "      <th>4</th>\n",
       "      <td>Super Mario Galaxy</td>\n",
       "      <td>Wii</td>\n",
       "      <td>November 12, 2007</td>\n",
       "      <td>metacritics 2007 wii game year ultimate ninten...</td>\n",
       "      <td>97.0</td>\n",
       "      <td>9.1</td>\n",
       "    </tr>\n",
       "    <tr>\n",
       "      <th>5</th>\n",
       "      <td>Super Mario Galaxy 2</td>\n",
       "      <td>Wii</td>\n",
       "      <td>May 23, 2010</td>\n",
       "      <td>super mario galaxy 2 sequel galaxyhopping orig...</td>\n",
       "      <td>97.0</td>\n",
       "      <td>9.1</td>\n",
       "    </tr>\n",
       "    <tr>\n",
       "      <th>...</th>\n",
       "      <td>...</td>\n",
       "      <td>...</td>\n",
       "      <td>...</td>\n",
       "      <td>...</td>\n",
       "      <td>...</td>\n",
       "      <td>...</td>\n",
       "    </tr>\n",
       "    <tr>\n",
       "      <th>12249</th>\n",
       "      <td>Charlie's Angels</td>\n",
       "      <td>GameCube</td>\n",
       "      <td>July 9, 2003</td>\n",
       "      <td>join natalie dylan alex intense adventure base...</td>\n",
       "      <td>23.0</td>\n",
       "      <td>4.3</td>\n",
       "    </tr>\n",
       "    <tr>\n",
       "      <th>12250</th>\n",
       "      <td>Fast &amp; Furious: Showdown</td>\n",
       "      <td>Xbox 360</td>\n",
       "      <td>May 21, 2013</td>\n",
       "      <td>fast furious showdown takes franchises iconic ...</td>\n",
       "      <td>22.0</td>\n",
       "      <td>1.3</td>\n",
       "    </tr>\n",
       "    <tr>\n",
       "      <th>12251</th>\n",
       "      <td>Drake of the 99 Dragons</td>\n",
       "      <td>Xbox</td>\n",
       "      <td>November 3, 2003</td>\n",
       "      <td>drake revenge supernatural hong kong world you...</td>\n",
       "      <td>22.0</td>\n",
       "      <td>1.7</td>\n",
       "    </tr>\n",
       "    <tr>\n",
       "      <th>12252</th>\n",
       "      <td>Afro Samurai 2: Revenge of Kuma Volume One</td>\n",
       "      <td>PlayStation 4</td>\n",
       "      <td>September 22, 2015</td>\n",
       "      <td>head journey redemption driven bittersweet rev...</td>\n",
       "      <td>21.0</td>\n",
       "      <td>2.9</td>\n",
       "    </tr>\n",
       "    <tr>\n",
       "      <th>12253</th>\n",
       "      <td>Infestation: Survivor Stories (The War Z)</td>\n",
       "      <td>PC</td>\n",
       "      <td>October 15, 2012</td>\n",
       "      <td>formerly known war z 5 years since outbreak gi...</td>\n",
       "      <td>20.0</td>\n",
       "      <td>1.7</td>\n",
       "    </tr>\n",
       "  </tbody>\n",
       "</table>\n",
       "<p>10901 rows × 6 columns</p>\n",
       "</div>"
      ],
      "text/plain": [
       "                                             name        platform  \\\n",
       "0            The Legend of Zelda: Ocarina of Time     Nintendo 64   \n",
       "1                        Tony Hawk's Pro Skater 2     PlayStation   \n",
       "2                             Grand Theft Auto IV   PlayStation 3   \n",
       "4                              Super Mario Galaxy             Wii   \n",
       "5                            Super Mario Galaxy 2             Wii   \n",
       "...                                           ...             ...   \n",
       "12249                            Charlie's Angels        GameCube   \n",
       "12250                    Fast & Furious: Showdown        Xbox 360   \n",
       "12251                     Drake of the 99 Dragons            Xbox   \n",
       "12252  Afro Samurai 2: Revenge of Kuma Volume One   PlayStation 4   \n",
       "12253   Infestation: Survivor Stories (The War Z)              PC   \n",
       "\n",
       "             release_date                                                  s  \\\n",
       "0       November 23, 1998  young boy link tricked ganondorf king gerudo t...   \n",
       "1      September 20, 2000  major publishers development efforts shift num...   \n",
       "2          April 29, 2008  metacritics 2008 ps3 game year also known gta ...   \n",
       "4       November 12, 2007  metacritics 2007 wii game year ultimate ninten...   \n",
       "5            May 23, 2010  super mario galaxy 2 sequel galaxyhopping orig...   \n",
       "...                   ...                                                ...   \n",
       "12249        July 9, 2003  join natalie dylan alex intense adventure base...   \n",
       "12250        May 21, 2013  fast furious showdown takes franchises iconic ...   \n",
       "12251    November 3, 2003  drake revenge supernatural hong kong world you...   \n",
       "12252  September 22, 2015  head journey redemption driven bittersweet rev...   \n",
       "12253    October 15, 2012  formerly known war z 5 years since outbreak gi...   \n",
       "\n",
       "       meta_score  user_review  \n",
       "0            99.0          9.1  \n",
       "1            98.0          7.4  \n",
       "2            98.0          7.7  \n",
       "4            97.0          9.1  \n",
       "5            97.0          9.1  \n",
       "...           ...          ...  \n",
       "12249        23.0          4.3  \n",
       "12250        22.0          1.3  \n",
       "12251        22.0          1.7  \n",
       "12252        21.0          2.9  \n",
       "12253        20.0          1.7  \n",
       "\n",
       "[10901 rows x 6 columns]"
      ]
     },
     "execution_count": 25,
     "metadata": {},
     "output_type": "execute_result"
    }
   ],
   "source": [
    "Df4"
   ]
  },
  {
   "cell_type": "code",
   "execution_count": 26,
   "id": "db5436ab-a563-453e-a911-7850a99ed8c6",
   "metadata": {},
   "outputs": [],
   "source": [
    "##Getting rid of games with a 65 or lower \n"
   ]
  },
  {
   "cell_type": "code",
   "execution_count": 27,
   "id": "72149dec-c7f7-4e46-8546-976a85eb4a47",
   "metadata": {},
   "outputs": [],
   "source": [
    "condition = Df4['meta_score'] > 65\n"
   ]
  },
  {
   "cell_type": "code",
   "execution_count": 28,
   "id": "a6e57a0f-a399-4962-9385-027e3da805e0",
   "metadata": {},
   "outputs": [],
   "source": [
    "true_index = condition[condition == True].index\n"
   ]
  },
  {
   "cell_type": "code",
   "execution_count": 29,
   "id": "fd1d8163-79d9-408d-a00e-a37b57e153ef",
   "metadata": {},
   "outputs": [],
   "source": [
    "Df5 = Df4[condition]\n"
   ]
  },
  {
   "cell_type": "code",
   "execution_count": 30,
   "id": "cb898ed6-3ee3-447d-8ef3-bca30f1e833e",
   "metadata": {},
   "outputs": [
    {
     "data": {
      "text/html": [
       "<div>\n",
       "<style scoped>\n",
       "    .dataframe tbody tr th:only-of-type {\n",
       "        vertical-align: middle;\n",
       "    }\n",
       "\n",
       "    .dataframe tbody tr th {\n",
       "        vertical-align: top;\n",
       "    }\n",
       "\n",
       "    .dataframe thead th {\n",
       "        text-align: right;\n",
       "    }\n",
       "</style>\n",
       "<table border=\"1\" class=\"dataframe\">\n",
       "  <thead>\n",
       "    <tr style=\"text-align: right;\">\n",
       "      <th></th>\n",
       "      <th>name</th>\n",
       "      <th>platform</th>\n",
       "      <th>release_date</th>\n",
       "      <th>s</th>\n",
       "      <th>meta_score</th>\n",
       "      <th>user_review</th>\n",
       "    </tr>\n",
       "  </thead>\n",
       "  <tbody>\n",
       "    <tr>\n",
       "      <th>0</th>\n",
       "      <td>The Legend of Zelda: Ocarina of Time</td>\n",
       "      <td>Nintendo 64</td>\n",
       "      <td>November 23, 1998</td>\n",
       "      <td>young boy link tricked ganondorf king gerudo t...</td>\n",
       "      <td>99.0</td>\n",
       "      <td>9.1</td>\n",
       "    </tr>\n",
       "    <tr>\n",
       "      <th>1</th>\n",
       "      <td>Tony Hawk's Pro Skater 2</td>\n",
       "      <td>PlayStation</td>\n",
       "      <td>September 20, 2000</td>\n",
       "      <td>major publishers development efforts shift num...</td>\n",
       "      <td>98.0</td>\n",
       "      <td>7.4</td>\n",
       "    </tr>\n",
       "    <tr>\n",
       "      <th>2</th>\n",
       "      <td>Grand Theft Auto IV</td>\n",
       "      <td>PlayStation 3</td>\n",
       "      <td>April 29, 2008</td>\n",
       "      <td>metacritics 2008 ps3 game year also known gta ...</td>\n",
       "      <td>98.0</td>\n",
       "      <td>7.7</td>\n",
       "    </tr>\n",
       "    <tr>\n",
       "      <th>4</th>\n",
       "      <td>Super Mario Galaxy</td>\n",
       "      <td>Wii</td>\n",
       "      <td>November 12, 2007</td>\n",
       "      <td>metacritics 2007 wii game year ultimate ninten...</td>\n",
       "      <td>97.0</td>\n",
       "      <td>9.1</td>\n",
       "    </tr>\n",
       "    <tr>\n",
       "      <th>5</th>\n",
       "      <td>Super Mario Galaxy 2</td>\n",
       "      <td>Wii</td>\n",
       "      <td>May 23, 2010</td>\n",
       "      <td>super mario galaxy 2 sequel galaxyhopping orig...</td>\n",
       "      <td>97.0</td>\n",
       "      <td>9.1</td>\n",
       "    </tr>\n",
       "    <tr>\n",
       "      <th>...</th>\n",
       "      <td>...</td>\n",
       "      <td>...</td>\n",
       "      <td>...</td>\n",
       "      <td>...</td>\n",
       "      <td>...</td>\n",
       "      <td>...</td>\n",
       "    </tr>\n",
       "    <tr>\n",
       "      <th>8688</th>\n",
       "      <td>AirForce Delta Strike</td>\n",
       "      <td>PlayStation 2</td>\n",
       "      <td>February 3, 2004</td>\n",
       "      <td>also known airforce delta blue wing knights st...</td>\n",
       "      <td>66.0</td>\n",
       "      <td>7.0</td>\n",
       "    </tr>\n",
       "    <tr>\n",
       "      <th>8689</th>\n",
       "      <td>American Conquest: Fight Back</td>\n",
       "      <td>PC</td>\n",
       "      <td>September 29, 2003</td>\n",
       "      <td>three centuries war continue even frantic comb...</td>\n",
       "      <td>66.0</td>\n",
       "      <td>8.1</td>\n",
       "    </tr>\n",
       "    <tr>\n",
       "      <th>8690</th>\n",
       "      <td>Tomb Raider: The Prophecy</td>\n",
       "      <td>Game Boy Advance</td>\n",
       "      <td>November 12, 2002</td>\n",
       "      <td>tomb raider prophecy delivers full tomb raider...</td>\n",
       "      <td>66.0</td>\n",
       "      <td>8.3</td>\n",
       "    </tr>\n",
       "    <tr>\n",
       "      <th>8691</th>\n",
       "      <td>Home Run King</td>\n",
       "      <td>GameCube</td>\n",
       "      <td>March 18, 2002</td>\n",
       "      <td>first pitch opening day final world series hom...</td>\n",
       "      <td>66.0</td>\n",
       "      <td>7.5</td>\n",
       "    </tr>\n",
       "    <tr>\n",
       "      <th>8693</th>\n",
       "      <td>Disney's The Emperor's New Groove</td>\n",
       "      <td>PlayStation</td>\n",
       "      <td>November 13, 2000</td>\n",
       "      <td>take selfabsorbed emperor named kuzco add devi...</td>\n",
       "      <td>66.0</td>\n",
       "      <td>7.3</td>\n",
       "    </tr>\n",
       "  </tbody>\n",
       "</table>\n",
       "<p>7951 rows × 6 columns</p>\n",
       "</div>"
      ],
      "text/plain": [
       "                                      name           platform  \\\n",
       "0     The Legend of Zelda: Ocarina of Time        Nintendo 64   \n",
       "1                 Tony Hawk's Pro Skater 2        PlayStation   \n",
       "2                      Grand Theft Auto IV      PlayStation 3   \n",
       "4                       Super Mario Galaxy                Wii   \n",
       "5                     Super Mario Galaxy 2                Wii   \n",
       "...                                    ...                ...   \n",
       "8688                 AirForce Delta Strike      PlayStation 2   \n",
       "8689         American Conquest: Fight Back                 PC   \n",
       "8690             Tomb Raider: The Prophecy   Game Boy Advance   \n",
       "8691                         Home Run King           GameCube   \n",
       "8693     Disney's The Emperor's New Groove        PlayStation   \n",
       "\n",
       "            release_date                                                  s  \\\n",
       "0      November 23, 1998  young boy link tricked ganondorf king gerudo t...   \n",
       "1     September 20, 2000  major publishers development efforts shift num...   \n",
       "2         April 29, 2008  metacritics 2008 ps3 game year also known gta ...   \n",
       "4      November 12, 2007  metacritics 2007 wii game year ultimate ninten...   \n",
       "5           May 23, 2010  super mario galaxy 2 sequel galaxyhopping orig...   \n",
       "...                  ...                                                ...   \n",
       "8688    February 3, 2004  also known airforce delta blue wing knights st...   \n",
       "8689  September 29, 2003  three centuries war continue even frantic comb...   \n",
       "8690   November 12, 2002  tomb raider prophecy delivers full tomb raider...   \n",
       "8691      March 18, 2002  first pitch opening day final world series hom...   \n",
       "8693   November 13, 2000  take selfabsorbed emperor named kuzco add devi...   \n",
       "\n",
       "      meta_score  user_review  \n",
       "0           99.0          9.1  \n",
       "1           98.0          7.4  \n",
       "2           98.0          7.7  \n",
       "4           97.0          9.1  \n",
       "5           97.0          9.1  \n",
       "...          ...          ...  \n",
       "8688        66.0          7.0  \n",
       "8689        66.0          8.1  \n",
       "8690        66.0          8.3  \n",
       "8691        66.0          7.5  \n",
       "8693        66.0          7.3  \n",
       "\n",
       "[7951 rows x 6 columns]"
      ]
     },
     "execution_count": 30,
     "metadata": {},
     "output_type": "execute_result"
    }
   ],
   "source": [
    "Df5\n"
   ]
  },
  {
   "cell_type": "code",
   "execution_count": 31,
   "id": "f5aa372d-c0dc-4f69-b298-63b46c4cc6ca",
   "metadata": {},
   "outputs": [
    {
     "data": {
      "text/plain": [
       "(7951, 6)"
      ]
     },
     "execution_count": 31,
     "metadata": {},
     "output_type": "execute_result"
    }
   ],
   "source": [
    "Df5.shape"
   ]
  },
  {
   "cell_type": "code",
   "execution_count": 32,
   "id": "4c5e3911-6efb-4ac5-807d-3f54d3c1b254",
   "metadata": {},
   "outputs": [],
   "source": [
    "##I got rid of punctuation and made eveything lowercase and got rid of stop words.\n"
   ]
  },
  {
   "cell_type": "code",
   "execution_count": 33,
   "id": "7f079758-435d-473c-bfc3-b6f7913e3869",
   "metadata": {},
   "outputs": [],
   "source": [
    "##Next time I will start the actual rec system"
   ]
  },
  {
   "cell_type": "code",
   "execution_count": 34,
   "id": "945ae6ec-1638-4c64-84b2-94104b7d23f5",
   "metadata": {},
   "outputs": [
    {
     "data": {
      "image/png": "[encoded data removed]",
      "text/plain": [
       "<Figure size 720x504 with 1 Axes>"
      ]
     },
     "metadata": {
      "needs_background": "light"
     },
     "output_type": "display_data"
    }
   ],
   "source": [
    "plt.figure(figsize=(10,7))\n",
    "sns.boxplot(x='user_review',y='platform',data=Df5)\n",
    "T = plt.title(\"Distribution of User Scores across diffrent platforms\")"
   ]
  },
  {
   "cell_type": "code",
   "execution_count": 36,
   "id": "af974312-852d-4305-8886-f6de86e4cd45",
   "metadata": {},
   "outputs": [
    {
     "data": {
      "text/html": [
       "<div>\n",
       "<style scoped>\n",
       "    .dataframe tbody tr th:only-of-type {\n",
       "        vertical-align: middle;\n",
       "    }\n",
       "\n",
       "    .dataframe tbody tr th {\n",
       "        vertical-align: top;\n",
       "    }\n",
       "\n",
       "    .dataframe thead th {\n",
       "        text-align: right;\n",
       "    }\n",
       "</style>\n",
       "<table border=\"1\" class=\"dataframe\">\n",
       "  <thead>\n",
       "    <tr style=\"text-align: right;\">\n",
       "      <th></th>\n",
       "      <th>platform</th>\n",
       "      <th>count</th>\n",
       "    </tr>\n",
       "  </thead>\n",
       "  <tbody>\n",
       "    <tr>\n",
       "      <th>0</th>\n",
       "      <td>PC</td>\n",
       "      <td>2587</td>\n",
       "    </tr>\n",
       "    <tr>\n",
       "      <th>1</th>\n",
       "      <td>PlayStation 4</td>\n",
       "      <td>698</td>\n",
       "    </tr>\n",
       "    <tr>\n",
       "      <th>2</th>\n",
       "      <td>Switch</td>\n",
       "      <td>592</td>\n",
       "    </tr>\n",
       "    <tr>\n",
       "      <th>3</th>\n",
       "      <td>Xbox 360</td>\n",
       "      <td>583</td>\n",
       "    </tr>\n",
       "    <tr>\n",
       "      <th>4</th>\n",
       "      <td>PlayStation 2</td>\n",
       "      <td>556</td>\n",
       "    </tr>\n",
       "    <tr>\n",
       "      <th>5</th>\n",
       "      <td>Xbox One</td>\n",
       "      <td>469</td>\n",
       "    </tr>\n",
       "    <tr>\n",
       "      <th>6</th>\n",
       "      <td>PlayStation 3</td>\n",
       "      <td>464</td>\n",
       "    </tr>\n",
       "    <tr>\n",
       "      <th>7</th>\n",
       "      <td>DS</td>\n",
       "      <td>326</td>\n",
       "    </tr>\n",
       "    <tr>\n",
       "      <th>8</th>\n",
       "      <td>Xbox</td>\n",
       "      <td>270</td>\n",
       "    </tr>\n",
       "    <tr>\n",
       "      <th>9</th>\n",
       "      <td>Wii</td>\n",
       "      <td>264</td>\n",
       "    </tr>\n",
       "    <tr>\n",
       "      <th>10</th>\n",
       "      <td>3DS</td>\n",
       "      <td>236</td>\n",
       "    </tr>\n",
       "    <tr>\n",
       "      <th>11</th>\n",
       "      <td>PSP</td>\n",
       "      <td>215</td>\n",
       "    </tr>\n",
       "    <tr>\n",
       "      <th>12</th>\n",
       "      <td>Game Boy Advance</td>\n",
       "      <td>210</td>\n",
       "    </tr>\n",
       "    <tr>\n",
       "      <th>13</th>\n",
       "      <td>GameCube</td>\n",
       "      <td>147</td>\n",
       "    </tr>\n",
       "    <tr>\n",
       "      <th>14</th>\n",
       "      <td>PlayStation</td>\n",
       "      <td>116</td>\n",
       "    </tr>\n",
       "    <tr>\n",
       "      <th>15</th>\n",
       "      <td>Wii U</td>\n",
       "      <td>93</td>\n",
       "    </tr>\n",
       "    <tr>\n",
       "      <th>16</th>\n",
       "      <td>Nintendo 64</td>\n",
       "      <td>56</td>\n",
       "    </tr>\n",
       "    <tr>\n",
       "      <th>17</th>\n",
       "      <td>PlayStation 5</td>\n",
       "      <td>45</td>\n",
       "    </tr>\n",
       "    <tr>\n",
       "      <th>18</th>\n",
       "      <td>Xbox Series X</td>\n",
       "      <td>21</td>\n",
       "    </tr>\n",
       "    <tr>\n",
       "      <th>19</th>\n",
       "      <td>Stadia</td>\n",
       "      <td>3</td>\n",
       "    </tr>\n",
       "  </tbody>\n",
       "</table>\n",
       "</div>"
      ],
      "text/plain": [
       "             platform  count\n",
       "0                  PC   2587\n",
       "1       PlayStation 4    698\n",
       "2              Switch    592\n",
       "3            Xbox 360    583\n",
       "4       PlayStation 2    556\n",
       "5            Xbox One    469\n",
       "6       PlayStation 3    464\n",
       "7                  DS    326\n",
       "8                Xbox    270\n",
       "9                 Wii    264\n",
       "10                3DS    236\n",
       "11                PSP    215\n",
       "12   Game Boy Advance    210\n",
       "13           GameCube    147\n",
       "14        PlayStation    116\n",
       "15              Wii U     93\n",
       "16        Nintendo 64     56\n",
       "17      PlayStation 5     45\n",
       "18      Xbox Series X     21\n",
       "19             Stadia      3"
      ]
     },
     "execution_count": 36,
     "metadata": {},
     "output_type": "execute_result"
    }
   ],
   "source": [
    "gpc = Df5['platform'].value_counts().reset_index()\n",
    "gpc.columns = ['platform', 'count']\n",
    "gpc"
   ]
  },
  {
   "cell_type": "code",
   "execution_count": 37,
   "id": "ea8eac4a-f78f-4818-aecc-a3b73d4035e2",
   "metadata": {},
   "outputs": [
    {
     "data": {
      "image/png": "[encoded data removed]",
      "text/plain": [
       "<Figure size 432x288 with 1 Axes>"
      ]
     },
     "metadata": {
      "needs_background": "light"
     },
     "output_type": "display_data"
    }
   ],
   "source": [
    "sns.barplot(x = 'count',y = 'platform', data = gpc);"
   ]
  },
  {
   "cell_type": "code",
   "execution_count": 46,
   "id": "74477e47-6521-4630-8000-e52b124bd7c6",
   "metadata": {},
   "outputs": [
    {
     "data": {
      "text/html": [
       "<div>\n",
       "<style scoped>\n",
       "    .dataframe tbody tr th:only-of-type {\n",
       "        vertical-align: middle;\n",
       "    }\n",
       "\n",
       "    .dataframe tbody tr th {\n",
       "        vertical-align: top;\n",
       "    }\n",
       "\n",
       "    .dataframe thead th {\n",
       "        text-align: right;\n",
       "    }\n",
       "</style>\n",
       "<table border=\"1\" class=\"dataframe\">\n",
       "  <thead>\n",
       "    <tr style=\"text-align: right;\">\n",
       "      <th></th>\n",
       "      <th>name</th>\n",
       "      <th>platform</th>\n",
       "      <th>user_review</th>\n",
       "    </tr>\n",
       "  </thead>\n",
       "  <tbody>\n",
       "    <tr>\n",
       "      <th>3237</th>\n",
       "      <td>GrimGrimoire</td>\n",
       "      <td>PlayStation 2</td>\n",
       "      <td>9.7</td>\n",
       "    </tr>\n",
       "    <tr>\n",
       "      <th>1692</th>\n",
       "      <td>Ghost Trick: Phantom Detective</td>\n",
       "      <td>DS</td>\n",
       "      <td>9.7</td>\n",
       "    </tr>\n",
       "    <tr>\n",
       "      <th>7174</th>\n",
       "      <td>Tengami</td>\n",
       "      <td>Wii U</td>\n",
       "      <td>9.7</td>\n",
       "    </tr>\n",
       "    <tr>\n",
       "      <th>2391</th>\n",
       "      <td>Z.H.P. Unlosing Ranger vs Darkdeath Evilman</td>\n",
       "      <td>PSP</td>\n",
       "      <td>9.7</td>\n",
       "    </tr>\n",
       "    <tr>\n",
       "      <th>8137</th>\n",
       "      <td>Crystar</td>\n",
       "      <td>PlayStation 4</td>\n",
       "      <td>9.6</td>\n",
       "    </tr>\n",
       "    <tr>\n",
       "      <th>7406</th>\n",
       "      <td>Diaries of a Spaceport Janitor</td>\n",
       "      <td>PC</td>\n",
       "      <td>9.6</td>\n",
       "    </tr>\n",
       "    <tr>\n",
       "      <th>86</th>\n",
       "      <td>The Witcher 3: Wild Hunt</td>\n",
       "      <td>PC</td>\n",
       "      <td>9.4</td>\n",
       "    </tr>\n",
       "    <tr>\n",
       "      <th>1671</th>\n",
       "      <td>Astro's Playroom</td>\n",
       "      <td>PlayStation 5</td>\n",
       "      <td>9.3</td>\n",
       "    </tr>\n",
       "    <tr>\n",
       "      <th>200</th>\n",
       "      <td>The Witcher 3: Wild Hunt - Blood and Wine</td>\n",
       "      <td>PC</td>\n",
       "      <td>9.3</td>\n",
       "    </tr>\n",
       "    <tr>\n",
       "      <th>1613</th>\n",
       "      <td>Vanquish</td>\n",
       "      <td>Xbox 360</td>\n",
       "      <td>9.2</td>\n",
       "    </tr>\n",
       "  </tbody>\n",
       "</table>\n",
       "</div>"
      ],
      "text/plain": [
       "                                             name        platform  user_review\n",
       "3237                                 GrimGrimoire   PlayStation 2          9.7\n",
       "1692               Ghost Trick: Phantom Detective              DS          9.7\n",
       "7174                                      Tengami           Wii U          9.7\n",
       "2391  Z.H.P. Unlosing Ranger vs Darkdeath Evilman             PSP          9.7\n",
       "8137                                      Crystar   PlayStation 4          9.6\n",
       "7406               Diaries of a Spaceport Janitor              PC          9.6\n",
       "86                       The Witcher 3: Wild Hunt              PC          9.4\n",
       "1671                             Astro's Playroom   PlayStation 5          9.3\n",
       "200     The Witcher 3: Wild Hunt - Blood and Wine              PC          9.3\n",
       "1613                                     Vanquish        Xbox 360          9.2"
      ]
     },
     "execution_count": 46,
     "metadata": {},
     "output_type": "execute_result"
    }
   ],
   "source": [
    "tpur = Df5[['name', 'platform', 'user_review']].sort_values('user_review', ascending = False)[:10]\n",
    "tpur[\"user_review\"] = tpur[\"user_review\"].apply(pd.to_numeric)\n",
    "tpur"
   ]
  },
  {
   "cell_type": "code",
   "execution_count": null,
   "id": "d5887334-48f5-492e-9448-0be821028760",
   "metadata": {},
   "outputs": [],
   "source": [
    "tpm = games_df[['name', 'platform', 'meta_score']].sort_values('meta_score', ascending = False)[:10]\n",
    "tpm"
   ]
  },
  {
   "cell_type": "code",
   "execution_count": null,
   "id": "ff496b24-8724-4218-998f-1e364c2ee857",
   "metadata": {},
   "outputs": [
    {
     "ename": "TypeError",
     "evalue": "Neither the `x` nor `y` variable appears to be numeric.",
     "output_type": "error",
     "traceback": [
      "\u001b[0;31m---------------------------------------------------------------------------\u001b[0m",
      "\u001b[0;31mTypeError\u001b[0m                                 Traceback (most recent call last)",
      "\u001b[0;32m/var/folders/l8/z5jtbjgx7xg8pwl0g1mdd2fh0000gn/T/ipykernel_3826/1472567427.py\u001b[0m in \u001b[0;36m<module>\u001b[0;34m\u001b[0m\n\u001b[1;32m      7\u001b[0m \u001b[0max2\u001b[0m\u001b[0;34m.\u001b[0m\u001b[0mset_title\u001b[0m\u001b[0;34m(\u001b[0m\u001b[0;34m'Top 10 games per User Review'\u001b[0m\u001b[0;34m)\u001b[0m\u001b[0;34m\u001b[0m\u001b[0;34m\u001b[0m\u001b[0m\n\u001b[1;32m      8\u001b[0m \u001b[0max2\u001b[0m\u001b[0;34m.\u001b[0m\u001b[0mset_xlim\u001b[0m\u001b[0;34m(\u001b[0m\u001b[0;36m9.3\u001b[0m\u001b[0;34m,\u001b[0m \u001b[0;36m9.8\u001b[0m\u001b[0;34m)\u001b[0m\u001b[0;34m\u001b[0m\u001b[0;34m\u001b[0m\u001b[0m\n\u001b[0;32m----> 9\u001b[0;31m \u001b[0msns\u001b[0m\u001b[0;34m.\u001b[0m\u001b[0mbarplot\u001b[0m\u001b[0;34m(\u001b[0m\u001b[0my\u001b[0m \u001b[0;34m=\u001b[0m \u001b[0;34m'name'\u001b[0m\u001b[0;34m,\u001b[0m \u001b[0mx\u001b[0m \u001b[0;34m=\u001b[0m \u001b[0;34m'user_review'\u001b[0m\u001b[0;34m,\u001b[0m \u001b[0mdata\u001b[0m \u001b[0;34m=\u001b[0m \u001b[0mdf\u001b[0m\u001b[0;34m,\u001b[0m \u001b[0max\u001b[0m \u001b[0;34m=\u001b[0m \u001b[0max2\u001b[0m\u001b[0;34m,\u001b[0m \u001b[0mpalette\u001b[0m \u001b[0;34m=\u001b[0m \u001b[0;34m'crest'\u001b[0m\u001b[0;34m)\u001b[0m\u001b[0;34m\u001b[0m\u001b[0;34m\u001b[0m\u001b[0m\n\u001b[0m\u001b[1;32m     10\u001b[0m \u001b[0;34m\u001b[0m\u001b[0m\n\u001b[1;32m     11\u001b[0m \u001b[0mplt\u001b[0m\u001b[0;34m.\u001b[0m\u001b[0mtight_layout\u001b[0m\u001b[0;34m(\u001b[0m\u001b[0mpad\u001b[0m \u001b[0;34m=\u001b[0m \u001b[0;36m2\u001b[0m\u001b[0;34m)\u001b[0m\u001b[0;34m\u001b[0m\u001b[0;34m\u001b[0m\u001b[0m\n",
      "\u001b[0;32m~/Desktop/AN/anaconda3/lib/python3.9/site-packages/seaborn/_decorators.py\u001b[0m in \u001b[0;36minner_f\u001b[0;34m(*args, **kwargs)\u001b[0m\n\u001b[1;32m     44\u001b[0m             )\n\u001b[1;32m     45\u001b[0m         \u001b[0mkwargs\u001b[0m\u001b[0;34m.\u001b[0m\u001b[0mupdate\u001b[0m\u001b[0;34m(\u001b[0m\u001b[0;34m{\u001b[0m\u001b[0mk\u001b[0m\u001b[0;34m:\u001b[0m \u001b[0marg\u001b[0m \u001b[0;32mfor\u001b[0m \u001b[0mk\u001b[0m\u001b[0;34m,\u001b[0m \u001b[0marg\u001b[0m \u001b[0;32min\u001b[0m \u001b[0mzip\u001b[0m\u001b[0;34m(\u001b[0m\u001b[0msig\u001b[0m\u001b[0;34m.\u001b[0m\u001b[0mparameters\u001b[0m\u001b[0;34m,\u001b[0m \u001b[0margs\u001b[0m\u001b[0;34m)\u001b[0m\u001b[0;34m}\u001b[0m\u001b[0;34m)\u001b[0m\u001b[0;34m\u001b[0m\u001b[0;34m\u001b[0m\u001b[0m\n\u001b[0;32m---> 46\u001b[0;31m         \u001b[0;32mreturn\u001b[0m \u001b[0mf\u001b[0m\u001b[0;34m(\u001b[0m\u001b[0;34m**\u001b[0m\u001b[0mkwargs\u001b[0m\u001b[0;34m)\u001b[0m\u001b[0;34m\u001b[0m\u001b[0;34m\u001b[0m\u001b[0m\n\u001b[0m\u001b[1;32m     47\u001b[0m     \u001b[0;32mreturn\u001b[0m \u001b[0minner_f\u001b[0m\u001b[0;34m\u001b[0m\u001b[0;34m\u001b[0m\u001b[0m\n\u001b[1;32m     48\u001b[0m \u001b[0;34m\u001b[0m\u001b[0m\n",
      "\u001b[0;32m~/Desktop/AN/anaconda3/lib/python3.9/site-packages/seaborn/categorical.py\u001b[0m in \u001b[0;36mbarplot\u001b[0;34m(x, y, hue, data, order, hue_order, estimator, ci, n_boot, units, seed, orient, color, palette, saturation, errcolor, errwidth, capsize, dodge, ax, **kwargs)\u001b[0m\n\u001b[1;32m   3180\u001b[0m ):\n\u001b[1;32m   3181\u001b[0m \u001b[0;34m\u001b[0m\u001b[0m\n\u001b[0;32m-> 3182\u001b[0;31m     plotter = _BarPlotter(x, y, hue, data, order, hue_order,\n\u001b[0m\u001b[1;32m   3183\u001b[0m                           \u001b[0mestimator\u001b[0m\u001b[0;34m,\u001b[0m \u001b[0mci\u001b[0m\u001b[0;34m,\u001b[0m \u001b[0mn_boot\u001b[0m\u001b[0;34m,\u001b[0m \u001b[0munits\u001b[0m\u001b[0;34m,\u001b[0m \u001b[0mseed\u001b[0m\u001b[0;34m,\u001b[0m\u001b[0;34m\u001b[0m\u001b[0;34m\u001b[0m\u001b[0m\n\u001b[1;32m   3184\u001b[0m                           \u001b[0morient\u001b[0m\u001b[0;34m,\u001b[0m \u001b[0mcolor\u001b[0m\u001b[0;34m,\u001b[0m \u001b[0mpalette\u001b[0m\u001b[0;34m,\u001b[0m \u001b[0msaturation\u001b[0m\u001b[0;34m,\u001b[0m\u001b[0;34m\u001b[0m\u001b[0;34m\u001b[0m\u001b[0m\n",
      "\u001b[0;32m~/Desktop/AN/anaconda3/lib/python3.9/site-packages/seaborn/categorical.py\u001b[0m in \u001b[0;36m__init__\u001b[0;34m(self, x, y, hue, data, order, hue_order, estimator, ci, n_boot, units, seed, orient, color, palette, saturation, errcolor, errwidth, capsize, dodge)\u001b[0m\n\u001b[1;32m   1582\u001b[0m                  errwidth, capsize, dodge):\n\u001b[1;32m   1583\u001b[0m         \u001b[0;34m\"\"\"Initialize the plotter.\"\"\"\u001b[0m\u001b[0;34m\u001b[0m\u001b[0;34m\u001b[0m\u001b[0m\n\u001b[0;32m-> 1584\u001b[0;31m         self.establish_variables(x, y, hue, data, orient,\n\u001b[0m\u001b[1;32m   1585\u001b[0m                                  order, hue_order, units)\n\u001b[1;32m   1586\u001b[0m         \u001b[0mself\u001b[0m\u001b[0;34m.\u001b[0m\u001b[0mestablish_colors\u001b[0m\u001b[0;34m(\u001b[0m\u001b[0mcolor\u001b[0m\u001b[0;34m,\u001b[0m \u001b[0mpalette\u001b[0m\u001b[0;34m,\u001b[0m \u001b[0msaturation\u001b[0m\u001b[0;34m)\u001b[0m\u001b[0;34m\u001b[0m\u001b[0;34m\u001b[0m\u001b[0m\n",
      "\u001b[0;32m~/Desktop/AN/anaconda3/lib/python3.9/site-packages/seaborn/categorical.py\u001b[0m in \u001b[0;36mestablish_variables\u001b[0;34m(self, x, y, hue, data, orient, order, hue_order, units)\u001b[0m\n\u001b[1;32m    154\u001b[0m \u001b[0;34m\u001b[0m\u001b[0m\n\u001b[1;32m    155\u001b[0m             \u001b[0;31m# Figure out the plotting orientation\u001b[0m\u001b[0;34m\u001b[0m\u001b[0;34m\u001b[0m\u001b[0m\n\u001b[0;32m--> 156\u001b[0;31m             orient = infer_orient(\n\u001b[0m\u001b[1;32m    157\u001b[0m                 \u001b[0mx\u001b[0m\u001b[0;34m,\u001b[0m \u001b[0my\u001b[0m\u001b[0;34m,\u001b[0m \u001b[0morient\u001b[0m\u001b[0;34m,\u001b[0m \u001b[0mrequire_numeric\u001b[0m\u001b[0;34m=\u001b[0m\u001b[0mself\u001b[0m\u001b[0;34m.\u001b[0m\u001b[0mrequire_numeric\u001b[0m\u001b[0;34m\u001b[0m\u001b[0;34m\u001b[0m\u001b[0m\n\u001b[1;32m    158\u001b[0m             )\n",
      "\u001b[0;32m~/Desktop/AN/anaconda3/lib/python3.9/site-packages/seaborn/_core.py\u001b[0m in \u001b[0;36minfer_orient\u001b[0;34m(x, y, orient, require_numeric)\u001b[0m\n\u001b[1;32m   1350\u001b[0m     \u001b[0;32melif\u001b[0m \u001b[0mrequire_numeric\u001b[0m \u001b[0;32mand\u001b[0m \u001b[0;34m\"numeric\"\u001b[0m \u001b[0;32mnot\u001b[0m \u001b[0;32min\u001b[0m \u001b[0;34m(\u001b[0m\u001b[0mx_type\u001b[0m\u001b[0;34m,\u001b[0m \u001b[0my_type\u001b[0m\u001b[0;34m)\u001b[0m\u001b[0;34m:\u001b[0m\u001b[0;34m\u001b[0m\u001b[0;34m\u001b[0m\u001b[0m\n\u001b[1;32m   1351\u001b[0m         \u001b[0merr\u001b[0m \u001b[0;34m=\u001b[0m \u001b[0;34m\"Neither the `x` nor `y` variable appears to be numeric.\"\u001b[0m\u001b[0;34m\u001b[0m\u001b[0;34m\u001b[0m\u001b[0m\n\u001b[0;32m-> 1352\u001b[0;31m         \u001b[0;32mraise\u001b[0m \u001b[0mTypeError\u001b[0m\u001b[0;34m(\u001b[0m\u001b[0merr\u001b[0m\u001b[0;34m)\u001b[0m\u001b[0;34m\u001b[0m\u001b[0;34m\u001b[0m\u001b[0m\n\u001b[0m\u001b[1;32m   1353\u001b[0m \u001b[0;34m\u001b[0m\u001b[0m\n\u001b[1;32m   1354\u001b[0m     \u001b[0;32melse\u001b[0m\u001b[0;34m:\u001b[0m\u001b[0;34m\u001b[0m\u001b[0;34m\u001b[0m\u001b[0m\n",
      "\u001b[0;31mTypeError\u001b[0m: Neither the `x` nor `y` variable appears to be numeric."
     ]
    }
   ],
   "source": [
    "fig, (ax1, ax2) = plt.subplots(2, 1, figsize = (16, 8))\n",
    "\n",
    "ax1.set_title('Top 10 games per Metascore')\n",
    "ax1.set_xlim(95, 100)\n",
    "sns.barplot(y = 'name', x = 'meta_score', data = df, ax = ax1, palette = 'flare');\n",
    "\n",
    "ax2.set_title('Top 10 games per User Review')\n",
    "ax2.set_xlim(9.3, 9.8)\n",
    "sns.barplot(y = 'name', x = 'user_review', data = df, ax = ax2, palette = 'crest')\n",
    "\n",
    "plt.tight_layout(pad = 2)"
   ]
  },
  {
   "cell_type": "code",
   "execution_count": null,
   "id": "fdf30fa1-a884-4374-ba01-5cacc94c49f2",
   "metadata": {},
   "outputs": [],
   "source": [
    "#I need to add more graphs and charts next time. My only challenge is what I want to graph and show as of right now."
   ]
  }
 ],
 "metadata": {
  "kernelspec": {
   "display_name": "Python 3 (ipykernel)",
   "language": "python",
   "name": "python3"
  },
  "language_info": {
   "codemirror_mode": {
    "name": "ipython",
    "version": 3
   },
   "file_extension": ".py",
   "mimetype": "text/x-python",
   "name": "python",
   "nbconvert_exporter": "python",
   "pygments_lexer": "ipython3",
   "version": "3.9.7"
  }
 },
 "nbformat": 4,
 "nbformat_minor": 5
}
