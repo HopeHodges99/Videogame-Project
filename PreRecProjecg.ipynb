{
 "cells": [
  {
   "cell_type": "code",
   "execution_count": 121,
   "id": "baac53a7-3302-492f-8a37-4c7d724b64a5",
   "metadata": {},
   "outputs": [
    {
     "name": "stderr",
     "output_type": "stream",
     "text": [
      "[nltk_data] Downloading package stopwords to\n",
      "[nltk_data]     /Users/hopehodges/nltk_data...\n",
      "[nltk_data]   Unzipping corpora/stopwords.zip.\n"
     ]
    }
   ],
   "source": [
    "import pandas as pd\n",
    "import matplotlib.pyplot as plt\n",
    "import seaborn as sb ##ploting and visual\n",
    "import scipy.stats as stat\n",
    "import numpy as np\n",
    "import nltk.corpus\n",
    "nltk.download('stopwords')\n",
    "from nltk.corpus import stopwords\n"
   ]
  },
  {
   "cell_type": "code",
   "execution_count": 122,
   "id": "bb6e84d4-2290-4b90-887a-21a085cdaad4",
   "metadata": {},
   "outputs": [],
   "source": [
    "df= pd.read_csv(\"games.csv\")"
   ]
  },
  {
   "cell_type": "code",
   "execution_count": 123,
   "id": "716e5e87-806b-46a6-8690-eb3a0202feb0",
   "metadata": {},
   "outputs": [],
   "source": [
    "##Cleaing up data"
   ]
  },
  {
   "cell_type": "code",
   "execution_count": 124,
   "id": "d298e520-6f03-46fd-9338-fd532ccc5dbb",
   "metadata": {},
   "outputs": [],
   "source": [
    "df.drop_duplicates('name',keep='first', inplace=True)\n",
    "\n",
    "df.reset_index(drop=True, inplace=True)\n"
   ]
  },
  {
   "cell_type": "code",
   "execution_count": 125,
   "id": "5c2dbfc9-34e2-41df-b1c6-5ed210625cda",
   "metadata": {},
   "outputs": [],
   "source": [
    "#Getting rid of punctuation and making everything lowercase"
   ]
  },
  {
   "cell_type": "code",
   "execution_count": 126,
   "id": "ca4b5028-aa3c-41b1-85fd-c4f213bf3c19",
   "metadata": {},
   "outputs": [
    {
     "name": "stdout",
     "output_type": "stream",
     "text": [
      "0        as a young boy link is tricked by ganondorf th...\n",
      "1        as most major publishers development efforts s...\n",
      "2        metacritics 2008 ps3 game of the year also kno...\n",
      "3        this is a tale of souls and swords transcendin...\n",
      "4        metacritics 2007 wii game of the year the ulti...\n",
      "                               ...                        \n",
      "12249    join natalie dylan and alex for an intense adv...\n",
      "12250    fast  furious showdown takes some of the franc...\n",
      "12251    drake is out for revenge in a supernatural hon...\n",
      "12252    head out on a journey of redemption driven by ...\n",
      "12253    formerly known as the war z it has been 5 year...\n",
      "Name: s, Length: 12254, dtype: object\n"
     ]
    },
    {
     "name": "stderr",
     "output_type": "stream",
     "text": [
      "/var/folders/l8/z5jtbjgx7xg8pwl0g1mdd2fh0000gn/T/ipykernel_14097/3941936916.py:3: FutureWarning: The default value of regex will change from True to False in a future version.\n",
      "  df['s'] = df['s'].str.replace(r'[^\\w\\s]+', '')\n"
     ]
    }
   ],
   "source": [
    "df.rename(columns={'summary': 's'}, inplace=True)\n",
    "df['s']=df['s'].str.lower()\n",
    "df['s'] = df['s'].str.replace(r'[^\\w\\s]+', '')\n",
    "print(df['s'])"
   ]
  },
  {
   "cell_type": "code",
   "execution_count": 130,
   "id": "0be93156-ec2d-441b-8eae-1df2a9ad3db3",
   "metadata": {},
   "outputs": [],
   "source": [
    "null_rows = df[df['s'].isnull()].index\n",
    "\n",
    "df.drop(index=null_rows, inplace=True)\n"
   ]
  },
  {
   "cell_type": "code",
   "execution_count": null,
   "id": "486466b5-eaf9-420f-bb7c-68cf00ba388a",
   "metadata": {},
   "outputs": [],
   "source": [
    "#Getting rid of stopwords "
   ]
  },
  {
   "cell_type": "code",
   "execution_count": null,
   "id": "c15dce39-2de7-48bc-b9f4-c1af508d3355",
   "metadata": {},
   "outputs": [],
   "source": [
    "#Do word clouds , content based and collab base, topic "
   ]
  },
  {
   "cell_type": "code",
   "execution_count": 132,
   "id": "cd2e5141-029b-4fb4-95bd-c957c0b47f47",
   "metadata": {},
   "outputs": [
    {
     "name": "stdout",
     "output_type": "stream",
     "text": [
      "0        young boy link tricked ganondorf king gerudo t...\n",
      "1        major publishers development efforts shift num...\n",
      "2        metacritics 2008 ps3 game year also known gta ...\n",
      "3        tale souls swords transcending world history t...\n",
      "4        metacritics 2007 wii game year ultimate ninten...\n",
      "                               ...                        \n",
      "12249    join natalie dylan alex intense adventure base...\n",
      "12250    fast furious showdown takes franchises iconic ...\n",
      "12251    drake revenge supernatural hong kong world you...\n",
      "12252    head journey redemption driven bittersweet rev...\n",
      "12253    formerly known war z 5 years since outbreak gi...\n",
      "Name: s, Length: 12153, dtype: object\n"
     ]
    }
   ],
   "source": [
    "stop_words = stopwords.words('english')\n",
    "df['s'] = df['s'].apply(lambda x: ' '.join([word for word in x.split() if word not in (stop_words)]))\n",
    "print(df['s'])"
   ]
  },
  {
   "cell_type": "code",
   "execution_count": 102,
   "id": "9f8064d1-1694-46da-ab47-4bbedf57e12f",
   "metadata": {},
   "outputs": [],
   "source": [
    "Df2 = df.drop(df[df['user_review'] == 'tbd'].index)\n"
   ]
  },
  {
   "cell_type": "code",
   "execution_count": 103,
   "id": "8884fe38-07d5-4aa6-9f05-25ba874ee33f",
   "metadata": {},
   "outputs": [],
   "source": [
    "##Turning my objects into floats "
   ]
  },
  {
   "cell_type": "code",
   "execution_count": 104,
   "id": "9533d0ec-f09e-4a9d-b26e-965c87b02771",
   "metadata": {},
   "outputs": [],
   "source": [
    "Df2[\"user_review\"] = Df2[\"user_review\"].astype(str).astype(float)\n"
   ]
  },
  {
   "cell_type": "code",
   "execution_count": 105,
   "id": "dca2f220-8029-4ab6-bc5c-6fdb61c99ade",
   "metadata": {},
   "outputs": [],
   "source": [
    "Df2[\"meta_score\"] = Df2[\"meta_score\"].astype(str).astype(float)\n"
   ]
  },
  {
   "cell_type": "code",
   "execution_count": 107,
   "id": "b65d3730-ce9d-45ec-906f-263462b70674",
   "metadata": {},
   "outputs": [
    {
     "name": "stdout",
     "output_type": "stream",
     "text": [
      "<class 'pandas.core.frame.DataFrame'>\n",
      "Int64Index: 17341 entries, 0 to 18799\n",
      "Data columns (total 6 columns):\n",
      " #   Column        Non-Null Count  Dtype  \n",
      "---  ------        --------------  -----  \n",
      " 0   name          17341 non-null  object \n",
      " 1   platform      17341 non-null  object \n",
      " 2   release_date  17341 non-null  object \n",
      " 3   s             17341 non-null  object \n",
      " 4   meta_score    17341 non-null  float64\n",
      " 5   user_review   17341 non-null  float64\n",
      "dtypes: float64(2), object(4)\n",
      "memory usage: 948.3+ KB\n"
     ]
    }
   ],
   "source": [
    "Df2.info()\n"
   ]
  },
  {
   "cell_type": "code",
   "execution_count": 108,
   "id": "72833ef2-1452-4b93-8acd-e94874829bb5",
   "metadata": {},
   "outputs": [
    {
     "data": {
      "text/html": [
       "<div>\n",
       "<style scoped>\n",
       "    .dataframe tbody tr th:only-of-type {\n",
       "        vertical-align: middle;\n",
       "    }\n",
       "\n",
       "    .dataframe tbody tr th {\n",
       "        vertical-align: top;\n",
       "    }\n",
       "\n",
       "    .dataframe thead th {\n",
       "        text-align: right;\n",
       "    }\n",
       "</style>\n",
       "<table border=\"1\" class=\"dataframe\">\n",
       "  <thead>\n",
       "    <tr style=\"text-align: right;\">\n",
       "      <th></th>\n",
       "      <th>meta_score</th>\n",
       "      <th>user_review</th>\n",
       "    </tr>\n",
       "  </thead>\n",
       "  <tbody>\n",
       "    <tr>\n",
       "      <th>count</th>\n",
       "      <td>17341.000000</td>\n",
       "      <td>17341.000000</td>\n",
       "    </tr>\n",
       "    <tr>\n",
       "      <th>mean</th>\n",
       "      <td>71.200738</td>\n",
       "      <td>6.991269</td>\n",
       "    </tr>\n",
       "    <tr>\n",
       "      <th>std</th>\n",
       "      <td>12.224246</td>\n",
       "      <td>1.351931</td>\n",
       "    </tr>\n",
       "    <tr>\n",
       "      <th>min</th>\n",
       "      <td>20.000000</td>\n",
       "      <td>0.200000</td>\n",
       "    </tr>\n",
       "    <tr>\n",
       "      <th>25%</th>\n",
       "      <td>64.000000</td>\n",
       "      <td>6.300000</td>\n",
       "    </tr>\n",
       "    <tr>\n",
       "      <th>50%</th>\n",
       "      <td>73.000000</td>\n",
       "      <td>7.300000</td>\n",
       "    </tr>\n",
       "    <tr>\n",
       "      <th>75%</th>\n",
       "      <td>80.000000</td>\n",
       "      <td>7.900000</td>\n",
       "    </tr>\n",
       "    <tr>\n",
       "      <th>max</th>\n",
       "      <td>99.000000</td>\n",
       "      <td>9.700000</td>\n",
       "    </tr>\n",
       "  </tbody>\n",
       "</table>\n",
       "</div>"
      ],
      "text/plain": [
       "         meta_score   user_review\n",
       "count  17341.000000  17341.000000\n",
       "mean      71.200738      6.991269\n",
       "std       12.224246      1.351931\n",
       "min       20.000000      0.200000\n",
       "25%       64.000000      6.300000\n",
       "50%       73.000000      7.300000\n",
       "75%       80.000000      7.900000\n",
       "max       99.000000      9.700000"
      ]
     },
     "execution_count": 108,
     "metadata": {},
     "output_type": "execute_result"
    }
   ],
   "source": [
    "Df2.describe()\n"
   ]
  },
  {
   "cell_type": "code",
   "execution_count": 14,
   "id": "c61ade8d-c309-45e7-baf7-c84912d96808",
   "metadata": {},
   "outputs": [],
   "source": [
    "##Getting rid of Dreamcast and Playstation Vita since they are both considered failed consoles \n"
   ]
  },
  {
   "cell_type": "code",
   "execution_count": 15,
   "id": "49e84c7c-4e2e-4606-972e-96e71cc92c5a",
   "metadata": {},
   "outputs": [],
   "source": [
    "Df3 = Df2[~Df2.platform.str.contains(\"Dreamcast\")]\n"
   ]
  },
  {
   "cell_type": "code",
   "execution_count": 16,
   "id": "65aabec3-a0a6-4300-b004-ef2c200d0f6d",
   "metadata": {},
   "outputs": [],
   "source": [
    "Df4 = Df3[~Df3.platform.str.contains(\"PlayStation Vita\")]\n"
   ]
  },
  {
   "cell_type": "code",
   "execution_count": 17,
   "id": "33fdbee2-aa04-4552-8b20-60858ba4bb03",
   "metadata": {},
   "outputs": [
    {
     "data": {
      "text/html": [
       "<div>\n",
       "<style scoped>\n",
       "    .dataframe tbody tr th:only-of-type {\n",
       "        vertical-align: middle;\n",
       "    }\n",
       "\n",
       "    .dataframe tbody tr th {\n",
       "        vertical-align: top;\n",
       "    }\n",
       "\n",
       "    .dataframe thead th {\n",
       "        text-align: right;\n",
       "    }\n",
       "</style>\n",
       "<table border=\"1\" class=\"dataframe\">\n",
       "  <thead>\n",
       "    <tr style=\"text-align: right;\">\n",
       "      <th></th>\n",
       "      <th>name</th>\n",
       "      <th>platform</th>\n",
       "      <th>release_date</th>\n",
       "      <th>summary</th>\n",
       "      <th>meta_score</th>\n",
       "      <th>user_review</th>\n",
       "    </tr>\n",
       "  </thead>\n",
       "  <tbody>\n",
       "    <tr>\n",
       "      <th>0</th>\n",
       "      <td>The Legend of Zelda: Ocarina of Time</td>\n",
       "      <td>Nintendo 64</td>\n",
       "      <td>November 23, 1998</td>\n",
       "      <td>As a young boy, Link is tricked by Ganondorf, ...</td>\n",
       "      <td>99.0</td>\n",
       "      <td>9.1</td>\n",
       "    </tr>\n",
       "    <tr>\n",
       "      <th>1</th>\n",
       "      <td>Tony Hawk's Pro Skater 2</td>\n",
       "      <td>PlayStation</td>\n",
       "      <td>September 20, 2000</td>\n",
       "      <td>As most major publishers' development efforts ...</td>\n",
       "      <td>98.0</td>\n",
       "      <td>7.4</td>\n",
       "    </tr>\n",
       "    <tr>\n",
       "      <th>2</th>\n",
       "      <td>Grand Theft Auto IV</td>\n",
       "      <td>PlayStation 3</td>\n",
       "      <td>April 29, 2008</td>\n",
       "      <td>[Metacritic's 2008 PS3 Game of the Year; Also ...</td>\n",
       "      <td>98.0</td>\n",
       "      <td>7.7</td>\n",
       "    </tr>\n",
       "    <tr>\n",
       "      <th>4</th>\n",
       "      <td>Super Mario Galaxy</td>\n",
       "      <td>Wii</td>\n",
       "      <td>November 12, 2007</td>\n",
       "      <td>[Metacritic's 2007 Wii Game of the Year] The u...</td>\n",
       "      <td>97.0</td>\n",
       "      <td>9.1</td>\n",
       "    </tr>\n",
       "    <tr>\n",
       "      <th>5</th>\n",
       "      <td>Super Mario Galaxy 2</td>\n",
       "      <td>Wii</td>\n",
       "      <td>May 23, 2010</td>\n",
       "      <td>Super Mario Galaxy 2, the sequel to the galaxy...</td>\n",
       "      <td>97.0</td>\n",
       "      <td>9.1</td>\n",
       "    </tr>\n",
       "    <tr>\n",
       "      <th>...</th>\n",
       "      <td>...</td>\n",
       "      <td>...</td>\n",
       "      <td>...</td>\n",
       "      <td>...</td>\n",
       "      <td>...</td>\n",
       "      <td>...</td>\n",
       "    </tr>\n",
       "    <tr>\n",
       "      <th>12249</th>\n",
       "      <td>Charlie's Angels</td>\n",
       "      <td>GameCube</td>\n",
       "      <td>July 9, 2003</td>\n",
       "      <td>Join Natalie, Dylan, and Alex for an intense a...</td>\n",
       "      <td>23.0</td>\n",
       "      <td>4.3</td>\n",
       "    </tr>\n",
       "    <tr>\n",
       "      <th>12250</th>\n",
       "      <td>Fast &amp; Furious: Showdown</td>\n",
       "      <td>Xbox 360</td>\n",
       "      <td>May 21, 2013</td>\n",
       "      <td>Fast &amp; Furious: Showdown takes some of the fra...</td>\n",
       "      <td>22.0</td>\n",
       "      <td>1.3</td>\n",
       "    </tr>\n",
       "    <tr>\n",
       "      <th>12251</th>\n",
       "      <td>Drake of the 99 Dragons</td>\n",
       "      <td>Xbox</td>\n",
       "      <td>November 3, 2003</td>\n",
       "      <td>Drake is out for revenge in a supernatural Hon...</td>\n",
       "      <td>22.0</td>\n",
       "      <td>1.7</td>\n",
       "    </tr>\n",
       "    <tr>\n",
       "      <th>12252</th>\n",
       "      <td>Afro Samurai 2: Revenge of Kuma Volume One</td>\n",
       "      <td>PlayStation 4</td>\n",
       "      <td>September 22, 2015</td>\n",
       "      <td>Head out on a journey of redemption, driven by...</td>\n",
       "      <td>21.0</td>\n",
       "      <td>2.9</td>\n",
       "    </tr>\n",
       "    <tr>\n",
       "      <th>12253</th>\n",
       "      <td>Infestation: Survivor Stories (The War Z)</td>\n",
       "      <td>PC</td>\n",
       "      <td>October 15, 2012</td>\n",
       "      <td>(Formerly known as \"The War Z\") It has been 5 ...</td>\n",
       "      <td>20.0</td>\n",
       "      <td>1.7</td>\n",
       "    </tr>\n",
       "  </tbody>\n",
       "</table>\n",
       "<p>10901 rows × 6 columns</p>\n",
       "</div>"
      ],
      "text/plain": [
       "                                             name        platform  \\\n",
       "0            The Legend of Zelda: Ocarina of Time     Nintendo 64   \n",
       "1                        Tony Hawk's Pro Skater 2     PlayStation   \n",
       "2                             Grand Theft Auto IV   PlayStation 3   \n",
       "4                              Super Mario Galaxy             Wii   \n",
       "5                            Super Mario Galaxy 2             Wii   \n",
       "...                                           ...             ...   \n",
       "12249                            Charlie's Angels        GameCube   \n",
       "12250                    Fast & Furious: Showdown        Xbox 360   \n",
       "12251                     Drake of the 99 Dragons            Xbox   \n",
       "12252  Afro Samurai 2: Revenge of Kuma Volume One   PlayStation 4   \n",
       "12253   Infestation: Survivor Stories (The War Z)              PC   \n",
       "\n",
       "             release_date                                            summary  \\\n",
       "0       November 23, 1998  As a young boy, Link is tricked by Ganondorf, ...   \n",
       "1      September 20, 2000  As most major publishers' development efforts ...   \n",
       "2          April 29, 2008  [Metacritic's 2008 PS3 Game of the Year; Also ...   \n",
       "4       November 12, 2007  [Metacritic's 2007 Wii Game of the Year] The u...   \n",
       "5            May 23, 2010  Super Mario Galaxy 2, the sequel to the galaxy...   \n",
       "...                   ...                                                ...   \n",
       "12249        July 9, 2003  Join Natalie, Dylan, and Alex for an intense a...   \n",
       "12250        May 21, 2013  Fast & Furious: Showdown takes some of the fra...   \n",
       "12251    November 3, 2003  Drake is out for revenge in a supernatural Hon...   \n",
       "12252  September 22, 2015  Head out on a journey of redemption, driven by...   \n",
       "12253    October 15, 2012  (Formerly known as \"The War Z\") It has been 5 ...   \n",
       "\n",
       "       meta_score  user_review  \n",
       "0            99.0          9.1  \n",
       "1            98.0          7.4  \n",
       "2            98.0          7.7  \n",
       "4            97.0          9.1  \n",
       "5            97.0          9.1  \n",
       "...           ...          ...  \n",
       "12249        23.0          4.3  \n",
       "12250        22.0          1.3  \n",
       "12251        22.0          1.7  \n",
       "12252        21.0          2.9  \n",
       "12253        20.0          1.7  \n",
       "\n",
       "[10901 rows x 6 columns]"
      ]
     },
     "execution_count": 17,
     "metadata": {},
     "output_type": "execute_result"
    }
   ],
   "source": [
    "Df4"
   ]
  },
  {
   "cell_type": "code",
   "execution_count": 18,
   "id": "db5436ab-a563-453e-a911-7850a99ed8c6",
   "metadata": {},
   "outputs": [],
   "source": [
    "##Getting rid of games with a 65 or lower \n"
   ]
  },
  {
   "cell_type": "code",
   "execution_count": 19,
   "id": "72149dec-c7f7-4e46-8546-976a85eb4a47",
   "metadata": {},
   "outputs": [],
   "source": [
    "condition = Df4['meta_score'] > 65\n"
   ]
  },
  {
   "cell_type": "code",
   "execution_count": 20,
   "id": "a6e57a0f-a399-4962-9385-027e3da805e0",
   "metadata": {},
   "outputs": [],
   "source": [
    "true_index = condition[condition == True].index\n"
   ]
  },
  {
   "cell_type": "code",
   "execution_count": 21,
   "id": "fd1d8163-79d9-408d-a00e-a37b57e153ef",
   "metadata": {},
   "outputs": [],
   "source": [
    "Df5 = Df4[condition]\n"
   ]
  },
  {
   "cell_type": "code",
   "execution_count": 22,
   "id": "cb898ed6-3ee3-447d-8ef3-bca30f1e833e",
   "metadata": {},
   "outputs": [
    {
     "data": {
      "text/html": [
       "<div>\n",
       "<style scoped>\n",
       "    .dataframe tbody tr th:only-of-type {\n",
       "        vertical-align: middle;\n",
       "    }\n",
       "\n",
       "    .dataframe tbody tr th {\n",
       "        vertical-align: top;\n",
       "    }\n",
       "\n",
       "    .dataframe thead th {\n",
       "        text-align: right;\n",
       "    }\n",
       "</style>\n",
       "<table border=\"1\" class=\"dataframe\">\n",
       "  <thead>\n",
       "    <tr style=\"text-align: right;\">\n",
       "      <th></th>\n",
       "      <th>name</th>\n",
       "      <th>platform</th>\n",
       "      <th>release_date</th>\n",
       "      <th>summary</th>\n",
       "      <th>meta_score</th>\n",
       "      <th>user_review</th>\n",
       "    </tr>\n",
       "  </thead>\n",
       "  <tbody>\n",
       "    <tr>\n",
       "      <th>0</th>\n",
       "      <td>The Legend of Zelda: Ocarina of Time</td>\n",
       "      <td>Nintendo 64</td>\n",
       "      <td>November 23, 1998</td>\n",
       "      <td>As a young boy, Link is tricked by Ganondorf, ...</td>\n",
       "      <td>99.0</td>\n",
       "      <td>9.1</td>\n",
       "    </tr>\n",
       "    <tr>\n",
       "      <th>1</th>\n",
       "      <td>Tony Hawk's Pro Skater 2</td>\n",
       "      <td>PlayStation</td>\n",
       "      <td>September 20, 2000</td>\n",
       "      <td>As most major publishers' development efforts ...</td>\n",
       "      <td>98.0</td>\n",
       "      <td>7.4</td>\n",
       "    </tr>\n",
       "    <tr>\n",
       "      <th>2</th>\n",
       "      <td>Grand Theft Auto IV</td>\n",
       "      <td>PlayStation 3</td>\n",
       "      <td>April 29, 2008</td>\n",
       "      <td>[Metacritic's 2008 PS3 Game of the Year; Also ...</td>\n",
       "      <td>98.0</td>\n",
       "      <td>7.7</td>\n",
       "    </tr>\n",
       "    <tr>\n",
       "      <th>4</th>\n",
       "      <td>Super Mario Galaxy</td>\n",
       "      <td>Wii</td>\n",
       "      <td>November 12, 2007</td>\n",
       "      <td>[Metacritic's 2007 Wii Game of the Year] The u...</td>\n",
       "      <td>97.0</td>\n",
       "      <td>9.1</td>\n",
       "    </tr>\n",
       "    <tr>\n",
       "      <th>5</th>\n",
       "      <td>Super Mario Galaxy 2</td>\n",
       "      <td>Wii</td>\n",
       "      <td>May 23, 2010</td>\n",
       "      <td>Super Mario Galaxy 2, the sequel to the galaxy...</td>\n",
       "      <td>97.0</td>\n",
       "      <td>9.1</td>\n",
       "    </tr>\n",
       "    <tr>\n",
       "      <th>...</th>\n",
       "      <td>...</td>\n",
       "      <td>...</td>\n",
       "      <td>...</td>\n",
       "      <td>...</td>\n",
       "      <td>...</td>\n",
       "      <td>...</td>\n",
       "    </tr>\n",
       "    <tr>\n",
       "      <th>8688</th>\n",
       "      <td>AirForce Delta Strike</td>\n",
       "      <td>PlayStation 2</td>\n",
       "      <td>February 3, 2004</td>\n",
       "      <td>(Also known as \"Airforce Delta Blue Wing Knigh...</td>\n",
       "      <td>66.0</td>\n",
       "      <td>7.0</td>\n",
       "    </tr>\n",
       "    <tr>\n",
       "      <th>8689</th>\n",
       "      <td>American Conquest: Fight Back</td>\n",
       "      <td>PC</td>\n",
       "      <td>September 29, 2003</td>\n",
       "      <td>Three centuries of war continue - with even mo...</td>\n",
       "      <td>66.0</td>\n",
       "      <td>8.1</td>\n",
       "    </tr>\n",
       "    <tr>\n",
       "      <th>8690</th>\n",
       "      <td>Tomb Raider: The Prophecy</td>\n",
       "      <td>Game Boy Advance</td>\n",
       "      <td>November 12, 2002</td>\n",
       "      <td>Tomb Raider: The Prophecy delivers the full To...</td>\n",
       "      <td>66.0</td>\n",
       "      <td>8.3</td>\n",
       "    </tr>\n",
       "    <tr>\n",
       "      <th>8691</th>\n",
       "      <td>Home Run King</td>\n",
       "      <td>GameCube</td>\n",
       "      <td>March 18, 2002</td>\n",
       "      <td>From the first pitch on Opening Day to the fin...</td>\n",
       "      <td>66.0</td>\n",
       "      <td>7.5</td>\n",
       "    </tr>\n",
       "    <tr>\n",
       "      <th>8693</th>\n",
       "      <td>Disney's The Emperor's New Groove</td>\n",
       "      <td>PlayStation</td>\n",
       "      <td>November 13, 2000</td>\n",
       "      <td>Take on, self-absorbed Emperor named Kuzco. Ad...</td>\n",
       "      <td>66.0</td>\n",
       "      <td>7.3</td>\n",
       "    </tr>\n",
       "  </tbody>\n",
       "</table>\n",
       "<p>7951 rows × 6 columns</p>\n",
       "</div>"
      ],
      "text/plain": [
       "                                      name           platform  \\\n",
       "0     The Legend of Zelda: Ocarina of Time        Nintendo 64   \n",
       "1                 Tony Hawk's Pro Skater 2        PlayStation   \n",
       "2                      Grand Theft Auto IV      PlayStation 3   \n",
       "4                       Super Mario Galaxy                Wii   \n",
       "5                     Super Mario Galaxy 2                Wii   \n",
       "...                                    ...                ...   \n",
       "8688                 AirForce Delta Strike      PlayStation 2   \n",
       "8689         American Conquest: Fight Back                 PC   \n",
       "8690             Tomb Raider: The Prophecy   Game Boy Advance   \n",
       "8691                         Home Run King           GameCube   \n",
       "8693     Disney's The Emperor's New Groove        PlayStation   \n",
       "\n",
       "            release_date                                            summary  \\\n",
       "0      November 23, 1998  As a young boy, Link is tricked by Ganondorf, ...   \n",
       "1     September 20, 2000  As most major publishers' development efforts ...   \n",
       "2         April 29, 2008  [Metacritic's 2008 PS3 Game of the Year; Also ...   \n",
       "4      November 12, 2007  [Metacritic's 2007 Wii Game of the Year] The u...   \n",
       "5           May 23, 2010  Super Mario Galaxy 2, the sequel to the galaxy...   \n",
       "...                  ...                                                ...   \n",
       "8688    February 3, 2004  (Also known as \"Airforce Delta Blue Wing Knigh...   \n",
       "8689  September 29, 2003  Three centuries of war continue - with even mo...   \n",
       "8690   November 12, 2002  Tomb Raider: The Prophecy delivers the full To...   \n",
       "8691      March 18, 2002  From the first pitch on Opening Day to the fin...   \n",
       "8693   November 13, 2000  Take on, self-absorbed Emperor named Kuzco. Ad...   \n",
       "\n",
       "      meta_score  user_review  \n",
       "0           99.0          9.1  \n",
       "1           98.0          7.4  \n",
       "2           98.0          7.7  \n",
       "4           97.0          9.1  \n",
       "5           97.0          9.1  \n",
       "...          ...          ...  \n",
       "8688        66.0          7.0  \n",
       "8689        66.0          8.1  \n",
       "8690        66.0          8.3  \n",
       "8691        66.0          7.5  \n",
       "8693        66.0          7.3  \n",
       "\n",
       "[7951 rows x 6 columns]"
      ]
     },
     "execution_count": 22,
     "metadata": {},
     "output_type": "execute_result"
    }
   ],
   "source": [
    "Df5\n"
   ]
  },
  {
   "cell_type": "code",
   "execution_count": 23,
   "id": "f5aa372d-c0dc-4f69-b298-63b46c4cc6ca",
   "metadata": {},
   "outputs": [
    {
     "data": {
      "text/plain": [
       "(7951, 6)"
      ]
     },
     "execution_count": 23,
     "metadata": {},
     "output_type": "execute_result"
    }
   ],
   "source": [
    "Df5.shape"
   ]
  },
  {
   "cell_type": "code",
   "execution_count": 24,
   "id": "4c5e3911-6efb-4ac5-807d-3f54d3c1b254",
   "metadata": {},
   "outputs": [],
   "source": [
    "##I got rid of punctuation and made eveything lowercase and got rid of stop words.\n"
   ]
  },
  {
   "cell_type": "code",
   "execution_count": 25,
   "id": "7f079758-435d-473c-bfc3-b6f7913e3869",
   "metadata": {},
   "outputs": [],
   "source": [
    "##Next time I will start the actual rec system"
   ]
  },
  {
   "cell_type": "code",
   "execution_count": null,
   "id": "945ae6ec-1638-4c64-84b2-94104b7d23f5",
   "metadata": {},
   "outputs": [],
   "source": []
  },
  {
   "cell_type": "code",
   "execution_count": null,
   "id": "ea8eac4a-f78f-4818-aecc-a3b73d4035e2",
   "metadata": {},
   "outputs": [],
   "source": []
  }
 ],
 "metadata": {
  "kernelspec": {
   "display_name": "Python 3 (ipykernel)",
   "language": "python",
   "name": "python3"
  },
  "language_info": {
   "codemirror_mode": {
    "name": "ipython",
    "version": 3
   },
   "file_extension": ".py",
   "mimetype": "text/x-python",
   "name": "python",
   "nbconvert_exporter": "python",
   "pygments_lexer": "ipython3",
   "version": "3.9.7"
  }
 },
 "nbformat": 4,
 "nbformat_minor": 5
}
