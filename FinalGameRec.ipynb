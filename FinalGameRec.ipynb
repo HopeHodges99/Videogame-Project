{
 "cells": [
  {
   "cell_type": "code",
   "execution_count": 359,
   "id": "dc744886-6487-449a-87b9-a12ab12cf158",
   "metadata": {},
   "outputs": [],
   "source": [
    "import pandas as pd\n",
    "import matplotlib.pyplot as plt\n",
    "import seaborn as sns ##ploting and visual\n",
    "import scipy.stats as stat\n",
    "import numpy as np\n",
    "import nltk.corpus\n",
    "#nltk.download('stopwords')\n",
    "from nltk.corpus import stopwords\n",
    "import matplotlib.pyplot as plt\n",
    "\n",
    "pd.options.mode.chained_assignment = None \n",
    "import datetime\n",
    "\n",
    "%matplotlib inline\n",
    "from scipy import stats\n",
    "from sklearn.metrics.pairwise import linear_kernel # for cosine similarity\n",
    "from sklearn.feature_extraction.text import TfidfVectorizer"
   ]
  },
  {
   "cell_type": "code",
   "execution_count": 360,
   "id": "cc2fbd0d-bce3-4c5a-98b7-5755533ed1e9",
   "metadata": {},
   "outputs": [
    {
     "data": {
      "text/plain": [
       "(18800, 6)"
      ]
     },
     "execution_count": 360,
     "metadata": {},
     "output_type": "execute_result"
    }
   ],
   "source": [
    "df= pd.read_csv(\"games.csv\")\n",
    "df.shape"
   ]
  },
  {
   "cell_type": "code",
   "execution_count": 361,
   "id": "70fac048-dfdb-4c38-a2e2-5f4c6c760676",
   "metadata": {},
   "outputs": [],
   "source": [
    "#Getting rid of duplicates and DLCs (downloadable content and expansion to a current game)"
   ]
  },
  {
   "cell_type": "code",
   "execution_count": 362,
   "id": "5f450a86-dfb0-401f-9fcb-b20905af9b56",
   "metadata": {},
   "outputs": [
    {
     "data": {
      "text/plain": [
       "(11322, 6)"
      ]
     },
     "execution_count": 362,
     "metadata": {},
     "output_type": "execute_result"
    }
   ],
   "source": [
    "df.drop_duplicates('name',keep='first', inplace=True)\n",
    "\n",
    "df.reset_index(drop=True, inplace=True)\n",
    "\n",
    "df = df[df[\"summary\"].str.contains(\"spin-off|DLC|Expansion|pack|Pack\") == False]\n",
    "df.shape"
   ]
  },
  {
   "cell_type": "code",
   "execution_count": 363,
   "id": "3a749c0f-75ae-40be-82f1-b0b19fcb655d",
   "metadata": {},
   "outputs": [],
   "source": [
    "#Changing the release date to year so I can have just the year for simplicity purposes "
   ]
  },
  {
   "cell_type": "code",
   "execution_count": 364,
   "id": "322c4c85-f139-49bd-a64f-0ebbd8a7413c",
   "metadata": {},
   "outputs": [],
   "source": [
    "df['year'] = pd.DatetimeIndex(df['release_date']).year"
   ]
  },
  {
   "cell_type": "code",
   "execution_count": 365,
   "id": "1447e2d6-c7c6-41f4-8e11-f39da05de328",
   "metadata": {},
   "outputs": [],
   "source": [
    "#changing year to a float for simplicty "
   ]
  },
  {
   "cell_type": "code",
   "execution_count": 366,
   "id": "f2433f78-55e9-4bb3-99ae-5795e28b4f4e",
   "metadata": {},
   "outputs": [],
   "source": [
    "df[\"year\"] = df[\"year\"].astype(str).astype(float)"
   ]
  },
  {
   "cell_type": "code",
   "execution_count": 367,
   "id": "53ff18b7-1e16-4f87-b3d1-17d9f1bb53f8",
   "metadata": {},
   "outputs": [],
   "source": [
    "#The user can input what console they don't want "
   ]
  },
  {
   "cell_type": "code",
   "execution_count": 446,
   "id": "ee0f8f49-08f7-4dc3-95d6-22b3c31afad3",
   "metadata": {},
   "outputs": [
    {
     "name": "stdin",
     "output_type": "stream",
     "text": [
      "please type what consoles, you DON'T want for example: Dreamcast | Playstation Vita and then hit ENTER Dreamcast | Playstation 1\n"
     ]
    },
    {
     "name": "stdout",
     "output_type": "stream",
     "text": [
      "Dreamcast | Playstation 1\n"
     ]
    }
   ],
   "source": [
    "val = input(\"please type what consoles, you DON'T want for example: Dreamcast | Playstation Vita and then hit ENTER\")\n",
    "print(val)"
   ]
  },
  {
   "cell_type": "code",
   "execution_count": 447,
   "id": "aa702679-461c-4e6d-a85f-b2a0e1e1284f",
   "metadata": {},
   "outputs": [],
   "source": [
    "#Dropping consoles "
   ]
  },
  {
   "cell_type": "code",
   "execution_count": 448,
   "id": "3b1e2198-8a0f-4b03-9898-5cc6b5c7da94",
   "metadata": {},
   "outputs": [],
   "source": [
    "df = df[~df.platform.str.contains(val)]"
   ]
  },
  {
   "cell_type": "code",
   "execution_count": 449,
   "id": "9881abe0-7aa8-4e87-8ec6-edd4d027106f",
   "metadata": {},
   "outputs": [],
   "source": [
    "#The user can now enter what starting year of games they want "
   ]
  },
  {
   "cell_type": "code",
   "execution_count": 450,
   "id": "c9f271bd-7ab5-4c65-ae46-bdda6f9bc339",
   "metadata": {},
   "outputs": [
    {
     "name": "stdin",
     "output_type": "stream",
     "text": [
      "What release years do you want and hit ENTER 2005\n"
     ]
    },
    {
     "name": "stdout",
     "output_type": "stream",
     "text": [
      "2005\n"
     ]
    }
   ],
   "source": [
    "val2 = input(\"What release years do you want and hit ENTER\")\n",
    "val2 = int(val2)\n",
    "print(val2)"
   ]
  },
  {
   "cell_type": "code",
   "execution_count": 373,
   "id": "54239da3-85f0-439f-82c6-adcbab2e53d8",
   "metadata": {},
   "outputs": [],
   "source": [
    "#Dropping the games "
   ]
  },
  {
   "cell_type": "code",
   "execution_count": 451,
   "id": "f2b4d610-b987-4f51-a098-b5517c0fd640",
   "metadata": {},
   "outputs": [],
   "source": [
    "condition1 = df['year'] >= val2\n",
    "true_index = condition1[condition1 == True].index\n",
    "df =df[condition1]"
   ]
  },
  {
   "cell_type": "code",
   "execution_count": 452,
   "id": "b279c91e-a3a8-4e7d-8939-797e8f2c06eb",
   "metadata": {},
   "outputs": [],
   "source": [
    "#Getting of punctuation and renaming summary to s to keep it simple "
   ]
  },
  {
   "cell_type": "code",
   "execution_count": 453,
   "id": "cfca8a03-85b1-4dca-babd-f1312e74d6a2",
   "metadata": {},
   "outputs": [
    {
     "name": "stderr",
     "output_type": "stream",
     "text": [
      "/var/folders/l8/z5jtbjgx7xg8pwl0g1mdd2fh0000gn/T/ipykernel_33311/16167914.py:3: FutureWarning: The default value of regex will change from True to False in a future version.\n",
      "  df['s'] = df['s'].str.replace(r'[^\\w\\s]+', '')\n"
     ]
    }
   ],
   "source": [
    "df.rename(columns={'summary': 's'}, inplace=True)\n",
    "df['s']=df['s'].str.lower()\n",
    "df['s'] = df['s'].str.replace(r'[^\\w\\s]+', '')"
   ]
  },
  {
   "cell_type": "code",
   "execution_count": 454,
   "id": "fe334503-0d17-4489-b911-26bf172f57fd",
   "metadata": {},
   "outputs": [],
   "source": [
    "#Getting rid of null rows "
   ]
  },
  {
   "cell_type": "code",
   "execution_count": 455,
   "id": "e4b04f9e-fe3e-4c31-9c20-3558aa097692",
   "metadata": {},
   "outputs": [],
   "source": [
    "null_rows = df[df['s'].isnull()].index\n",
    "\n",
    "df.drop(index=null_rows, inplace=True)"
   ]
  },
  {
   "cell_type": "code",
   "execution_count": 456,
   "id": "49d60ce8-56b6-4ebc-a5ae-59757f7d7417",
   "metadata": {},
   "outputs": [],
   "source": [
    "#Gettingg rid of stopwords "
   ]
  },
  {
   "cell_type": "code",
   "execution_count": 457,
   "id": "f8751a82-38bf-4c63-bfdf-79d0fff9cb00",
   "metadata": {},
   "outputs": [],
   "source": [
    "stop_words = stopwords.words('english')\n",
    "df['s'] = df['s'].apply(lambda x: ' '.join([word for word in x.split() if word not in (stop_words)]))\n",
    "#print(df['s'])"
   ]
  },
  {
   "cell_type": "code",
   "execution_count": 458,
   "id": "f6e1df45-64f1-4219-af03-0ccdc006f54d",
   "metadata": {},
   "outputs": [],
   "source": [
    "#Turning User Review and Meta Score into floats to be more compatible "
   ]
  },
  {
   "cell_type": "code",
   "execution_count": 459,
   "id": "847d0e4d-b5b3-4ea8-827e-01938a4bf5c8",
   "metadata": {},
   "outputs": [],
   "source": [
    "df = df.drop(df[df['user_review'] == 'tbd'].index)\n",
    "df[\"user_review\"] = df[\"user_review\"].astype(str).astype(float)\n",
    "df[\"meta_score\"] = df[\"meta_score\"].astype(str).astype(float)"
   ]
  },
  {
   "cell_type": "code",
   "execution_count": 460,
   "id": "9e5d9501-72d7-41b1-b683-af35ea6c4f3a",
   "metadata": {},
   "outputs": [],
   "source": [
    "#Getting games with 65 score and better"
   ]
  },
  {
   "cell_type": "code",
   "execution_count": 461,
   "id": "cef57c35-9b2f-4f6b-a239-da822b51e463",
   "metadata": {},
   "outputs": [],
   "source": [
    "condition = df['meta_score'] > 65\n",
    "true_index = condition[condition == True].index\n",
    "df =df[condition]"
   ]
  },
  {
   "cell_type": "code",
   "execution_count": 462,
   "id": "0ab173ca-c79f-4192-b066-ac7f92c24beb",
   "metadata": {},
   "outputs": [
    {
     "data": {
      "text/plain": [
       "RangeIndex(start=0, stop=4387, step=1)"
      ]
     },
     "execution_count": 462,
     "metadata": {},
     "output_type": "execute_result"
    }
   ],
   "source": [
    "df.reset_index(drop=True, inplace=True)\n",
    "\n",
    "df.index"
   ]
  },
  {
   "cell_type": "code",
   "execution_count": 463,
   "id": "8b978689-f3a7-4e01-b1a1-331114a47994",
   "metadata": {},
   "outputs": [
    {
     "data": {
      "text/plain": [
       "(4387, 23486)"
      ]
     },
     "execution_count": 463,
     "metadata": {},
     "output_type": "execute_result"
    }
   ],
   "source": [
    "#First I did TF-IDF Vectorizer\n",
    "tfidf = TfidfVectorizer()\n",
    "\n",
    "#Created the matrix\n",
    "tfidf_matrix = tfidf.fit_transform([str(i) for i in df['s']])\n",
    "\n",
    "#Output the shape of matrix\n",
    "tfidf_matrix.shape"
   ]
  },
  {
   "cell_type": "code",
   "execution_count": 464,
   "id": "b34429c8-5687-49e1-897c-3d3ad24d68a3",
   "metadata": {},
   "outputs": [
    {
     "data": {
      "text/plain": [
       "array([[1.        , 0.00936336, 0.01339456, ..., 0.01698337, 0.        ,\n",
       "        0.        ],\n",
       "       [0.00936336, 1.        , 0.10136275, ..., 0.00153726, 0.00724332,\n",
       "        0.        ],\n",
       "       [0.01339456, 0.10136275, 1.        , ..., 0.0053351 , 0.01196047,\n",
       "        0.01506316],\n",
       "       ...,\n",
       "       [0.01698337, 0.00153726, 0.0053351 , ..., 1.        , 0.00624388,\n",
       "        0.03055552],\n",
       "       [0.        , 0.00724332, 0.01196047, ..., 0.00624388, 1.        ,\n",
       "        0.00358405],\n",
       "       [0.        , 0.        , 0.01506316, ..., 0.03055552, 0.00358405,\n",
       "        1.        ]])"
      ]
     },
     "execution_count": 464,
     "metadata": {},
     "output_type": "execute_result"
    }
   ],
   "source": [
    "cosine = linear_kernel(tfidf_matrix, tfidf_matrix)\n",
    "cosine"
   ]
  },
  {
   "cell_type": "code",
   "execution_count": 465,
   "id": "c0ef7aff-ef9e-4bc8-b78c-bfc05ad45c78",
   "metadata": {},
   "outputs": [
    {
     "data": {
      "text/plain": [
       "name\n",
       "Super Mario Galaxy 2                               0\n",
       "Red Dead Redemption 2                              1\n",
       "Grand Theft Auto V                                 2\n",
       "Disco Elysium: The Final Cut                       3\n",
       "The Legend of Zelda: Breath of the Wild            4\n",
       "                                                ... \n",
       "Naruto to Boruto: Shinobi Striker               4382\n",
       "Bounty Train                                    4383\n",
       "Adventure Time: Finn and Jake Investigations    4384\n",
       "A.R.E.S. Extinction Agenda EX                   4385\n",
       "Ghost Pirates of Vooju Island                   4386\n",
       "Length: 4387, dtype: int64"
      ]
     },
     "execution_count": 465,
     "metadata": {},
     "output_type": "execute_result"
    }
   ],
   "source": [
    "# reverse the indices and video game titles and combine Names and Meta Score\n",
    "df[\"meta_score\"] = df[\"meta_score\"].astype(str)\n",
    "#EC = Empty space that way there can be a space between name and score \n",
    "df[\"EC\"] = \" \"\n",
    "df[\"Both Name and Score\"] = df[\"name\"] + df[\"EC\"] + df[\"meta_score\"]\n",
    "indices = pd.Series(df.index, index=df['name'])\n",
    "indices"
   ]
  },
  {
   "cell_type": "code",
   "execution_count": 466,
   "id": "10ab8afe-ff04-4983-b803-a4160d52d397",
   "metadata": {},
   "outputs": [],
   "source": [
    "def recommender_system(title, cosine=cosine):\n",
    "    \n",
    "    # get index of video game that matches title\n",
    "    \n",
    "    index = indices[title]\n",
    "    \n",
    "    # get pairwise similarity scores of all video games with the given title\n",
    "    \n",
    "    sim_scores = list(enumerate(cosine[index]))\n",
    "    \n",
    "    # sort games based on similarity scores\n",
    "    \n",
    "    sim_scores = sorted(sim_scores, key=lambda x: x[1], reverse=True)\n",
    "    \n",
    "    # get scores of 10 most similar video games\n",
    "    \n",
    "    sim_scores = sim_scores[1:11]\n",
    "    \n",
    "    # get game indices\n",
    "    \n",
    "    game_indices = [i[0] for i in sim_scores]\n",
    "    \n",
    "    # return top 10 most similar video games\n",
    "    \n",
    "    recs = df['Both Name and Score'].iloc[game_indices]\n",
    "    \n",
    "    return recs"
   ]
  },
  {
   "cell_type": "code",
   "execution_count": 467,
   "id": "523f8124-ef28-4b7f-8609-b8308c29cfe9",
   "metadata": {},
   "outputs": [
    {
     "data": {
      "text/plain": [
       "536                      Mario Kart 7 85.0\n",
       "1175                  FAST Racing NEO 81.0\n",
       "1065                 ModNation Racers 82.0\n",
       "3044                Team Sonic Racing 73.0\n",
       "1629                     Wipeout 2048 79.0\n",
       "3288           Test Drive Unlimited 2 72.0\n",
       "2514    Mario Kart Live: Home Circuit 75.0\n",
       "592                    Project CARS 2 84.0\n",
       "3109             FAST - Racing League 73.0\n",
       "1591                   Hotshot Racing 79.0\n",
       "Name: Both Name and Score, dtype: object"
      ]
     },
     "execution_count": 467,
     "metadata": {},
     "output_type": "execute_result"
    }
   ],
   "source": [
    "recommender_system(\"Mario Kart 8\")"
   ]
  },
  {
   "cell_type": "code",
   "execution_count": 468,
   "id": "bf60386e-014e-43b7-aea4-c0ccb2f7fef6",
   "metadata": {},
   "outputs": [
    {
     "data": {
      "text/plain": [
       "3394              Assassin's Creed Rogue Remastered 71.0\n",
       "3245          Assassin's Creed: The Ezio Collection 72.0\n",
       "1370         Assassin's Creed: The Rebel Collection 80.0\n",
       "3898             Assassin's Creed Chronicles: China 69.0\n",
       "3688                             Banner of the Maid 70.0\n",
       "3333    Assassin's Creed Syndicate: Jack the Ripper 72.0\n",
       "504                        Assassin's Creed Origins 85.0\n",
       "4353                 Assassin's Creed Liberation HD 66.0\n",
       "106                   Assassin's Creed: Brotherhood 90.0\n",
       "1357                  Assassin's Creed: Revelations 80.0\n",
       "Name: Both Name and Score, dtype: object"
      ]
     },
     "execution_count": 468,
     "metadata": {},
     "output_type": "execute_result"
    }
   ],
   "source": [
    "recommender_system(\"Assassin's Creed Rogue\")"
   ]
  },
  {
   "cell_type": "code",
   "execution_count": null,
   "id": "67234749-d9a8-49d7-8383-4ffde2a0b1c6",
   "metadata": {},
   "outputs": [],
   "source": []
  }
 ],
 "metadata": {
  "kernelspec": {
   "display_name": "Python 3 (ipykernel)",
   "language": "python",
   "name": "python3"
  },
  "language_info": {
   "codemirror_mode": {
    "name": "ipython",
    "version": 3
   },
   "file_extension": ".py",
   "mimetype": "text/x-python",
   "name": "python",
   "nbconvert_exporter": "python",
   "pygments_lexer": "ipython3",
   "version": "3.9.7"
  }
 },
 "nbformat": 4,
 "nbformat_minor": 5
}
