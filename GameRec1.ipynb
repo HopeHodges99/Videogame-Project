{
 "cells": [
  {
   "cell_type": "code",
   "execution_count": 64,
   "id": "baac53a7-3302-492f-8a37-4c7d724b64a5",
   "metadata": {},
   "outputs": [
    {
     "name": "stderr",
     "output_type": "stream",
     "text": [
      "[nltk_data] Downloading package stopwords to\n",
      "[nltk_data]     /Users/hopehodges/nltk_data...\n",
      "[nltk_data]   Package stopwords is already up-to-date!\n"
     ]
    }
   ],
   "source": [
    "import pandas as pd\n",
    "import matplotlib.pyplot as plt\n",
    "import seaborn as sns ##ploting and visual\n",
    "import scipy.stats as stat\n",
    "import numpy as np\n",
    "import nltk.corpus\n",
    "nltk.download('stopwords')\n",
    "from nltk.corpus import stopwords\n",
    "import matplotlib.pyplot as plt\n",
    "\n",
    "import datetime\n",
    "\n",
    "%matplotlib inline\n",
    "from scipy import stats\n",
    "from sklearn.metrics.pairwise import linear_kernel # for cosine similarity\n",
    "from sklearn.feature_extraction.text import TfidfVectorizer"
   ]
  },
  {
   "cell_type": "code",
   "execution_count": 61,
   "id": "bb6e84d4-2290-4b90-887a-21a085cdaad4",
   "metadata": {},
   "outputs": [],
   "source": [
    "df= pd.read_csv(\"games.csv\")\n"
   ]
  },
  {
   "cell_type": "code",
   "execution_count": 55,
   "id": "b64c6cf0-6652-4c8b-b67d-e6872f43c7a9",
   "metadata": {},
   "outputs": [
    {
     "data": {
      "text/plain": [
       "<bound method DataFrame.info of                                              name        platform  \\\n",
       "0            The Legend of Zelda: Ocarina of Time     Nintendo 64   \n",
       "1                        Tony Hawk's Pro Skater 2     PlayStation   \n",
       "2                             Grand Theft Auto IV   PlayStation 3   \n",
       "3                                     SoulCalibur       Dreamcast   \n",
       "4                             Grand Theft Auto IV        Xbox 360   \n",
       "...                                           ...             ...   \n",
       "18795                    Fast & Furious: Showdown        Xbox 360   \n",
       "18796                     Drake of the 99 Dragons            Xbox   \n",
       "18797  Afro Samurai 2: Revenge of Kuma Volume One   PlayStation 4   \n",
       "18798   Infestation: Survivor Stories (The War Z)              PC   \n",
       "18799         Leisure Suit Larry: Box Office Bust              PC   \n",
       "\n",
       "             release_date                                            summary  \\\n",
       "0       November 23, 1998  As a young boy, Link is tricked by Ganondorf, ...   \n",
       "1      September 20, 2000  As most major publishers' development efforts ...   \n",
       "2          April 29, 2008  [Metacritic's 2008 PS3 Game of the Year; Also ...   \n",
       "3       September 8, 1999  This is a tale of souls and swords, transcendi...   \n",
       "4          April 29, 2008  [Metacritic's 2008 Xbox 360 Game of the Year; ...   \n",
       "...                   ...                                                ...   \n",
       "18795        May 21, 2013  Fast & Furious: Showdown takes some of the fra...   \n",
       "18796    November 3, 2003  Drake is out for revenge in a supernatural Hon...   \n",
       "18797  September 22, 2015  Head out on a journey of redemption, driven by...   \n",
       "18798    October 15, 2012  (Formerly known as \"The War Z\") It has been 5 ...   \n",
       "18799      March 31, 2009  The Leisure Suit Larry: Box Office Bust video ...   \n",
       "\n",
       "       meta_score user_review  \n",
       "0              99         9.1  \n",
       "1              98         7.4  \n",
       "2              98         7.7  \n",
       "3              98         8.4  \n",
       "4              98         7.9  \n",
       "...           ...         ...  \n",
       "18795          22         1.3  \n",
       "18796          22         1.7  \n",
       "18797          21         2.9  \n",
       "18798          20         1.7  \n",
       "18799          20         2.0  \n",
       "\n",
       "[18800 rows x 6 columns]>"
      ]
     },
     "execution_count": 55,
     "metadata": {},
     "output_type": "execute_result"
    }
   ],
   "source": [
    "df.info\n"
   ]
  },
  {
   "cell_type": "code",
   "execution_count": null,
   "id": "716e5e87-806b-46a6-8690-eb3a0202feb0",
   "metadata": {},
   "outputs": [],
   "source": [
    "##Cleaning up data"
   ]
  },
  {
   "cell_type": "code",
   "execution_count": null,
   "id": "d298e520-6f03-46fd-9338-fd532ccc5dbb",
   "metadata": {},
   "outputs": [],
   "source": [
    "df.drop_duplicates('name',keep='first', inplace=True)\n",
    "\n",
    "df.reset_index(drop=True, inplace=True)\n"
   ]
  },
  {
   "cell_type": "code",
   "execution_count": null,
   "id": "5c2dbfc9-34e2-41df-b1c6-5ed210625cda",
   "metadata": {},
   "outputs": [],
   "source": [
    "#Getting rid of punctuation and making everything lowercase"
   ]
  },
  {
   "cell_type": "code",
   "execution_count": 11,
   "id": "ca4b5028-aa3c-41b1-85fd-c4f213bf3c19",
   "metadata": {},
   "outputs": [
    {
     "name": "stderr",
     "output_type": "stream",
     "text": [
      "/var/folders/l8/z5jtbjgx7xg8pwl0g1mdd2fh0000gn/T/ipykernel_3826/3941936916.py:3: FutureWarning: The default value of regex will change from True to False in a future version.\n",
      "  df['s'] = df['s'].str.replace(r'[^\\w\\s]+', '')\n"
     ]
    },
    {
     "name": "stdout",
     "output_type": "stream",
     "text": [
      "0        as a young boy link is tricked by ganondorf th...\n",
      "1        as most major publishers development efforts s...\n",
      "2        metacritics 2008 ps3 game of the year also kno...\n",
      "3        this is a tale of souls and swords transcendin...\n",
      "4        metacritics 2007 wii game of the year the ulti...\n",
      "                               ...                        \n",
      "12249    join natalie dylan and alex for an intense adv...\n",
      "12250    fast  furious showdown takes some of the franc...\n",
      "12251    drake is out for revenge in a supernatural hon...\n",
      "12252    head out on a journey of redemption driven by ...\n",
      "12253    formerly known as the war z it has been 5 year...\n",
      "Name: s, Length: 12254, dtype: object\n"
     ]
    }
   ],
   "source": [
    "df.rename(columns={'summary': 's'}, inplace=True)\n",
    "df['s']=df['s'].str.lower()\n",
    "df['s'] = df['s'].str.replace(r'[^\\w\\s]+', '')\n",
    "print(df['s'])\n"
   ]
  },
  {
   "cell_type": "code",
   "execution_count": 12,
   "id": "0be93156-ec2d-441b-8eae-1df2a9ad3db3",
   "metadata": {},
   "outputs": [],
   "source": [
    "null_rows = df[df['s'].isnull()].index\n",
    "\n",
    "df.drop(index=null_rows, inplace=True)\n"
   ]
  },
  {
   "cell_type": "code",
   "execution_count": 13,
   "id": "486466b5-eaf9-420f-bb7c-68cf00ba388a",
   "metadata": {},
   "outputs": [],
   "source": [
    "#Getting rid of stopwords "
   ]
  },
  {
   "cell_type": "code",
   "execution_count": null,
   "id": "c15dce39-2de7-48bc-b9f4-c1af508d3355",
   "metadata": {},
   "outputs": [],
   "source": [
    "#Do word clouds , content based and collab base, topic \n"
   ]
  },
  {
   "cell_type": "code",
   "execution_count": 15,
   "id": "cd2e5141-029b-4fb4-95bd-c957c0b47f47",
   "metadata": {},
   "outputs": [
    {
     "name": "stdout",
     "output_type": "stream",
     "text": [
      "0        young boy link tricked ganondorf king gerudo t...\n",
      "1        major publishers development efforts shift num...\n",
      "2        metacritics 2008 ps3 game year also known gta ...\n",
      "3        tale souls swords transcending world history t...\n",
      "4        metacritics 2007 wii game year ultimate ninten...\n",
      "                               ...                        \n",
      "12249    join natalie dylan alex intense adventure base...\n",
      "12250    fast furious showdown takes franchises iconic ...\n",
      "12251    drake revenge supernatural hong kong world you...\n",
      "12252    head journey redemption driven bittersweet rev...\n",
      "12253    formerly known war z 5 years since outbreak gi...\n",
      "Name: s, Length: 12153, dtype: object\n"
     ]
    }
   ],
   "source": [
    "stop_words = stopwords.words('english')\n",
    "df['s'] = df['s'].apply(lambda x: ' '.join([word for word in x.split() if word not in (stop_words)]))\n",
    "print(df['s'])"
   ]
  },
  {
   "cell_type": "code",
   "execution_count": 16,
   "id": "9f8064d1-1694-46da-ab47-4bbedf57e12f",
   "metadata": {},
   "outputs": [],
   "source": [
    "Df2 = df.drop(df[df['user_review'] == 'tbd'].index)\n"
   ]
  },
  {
   "cell_type": "code",
   "execution_count": 17,
   "id": "8884fe38-07d5-4aa6-9f05-25ba874ee33f",
   "metadata": {},
   "outputs": [],
   "source": [
    "##Turning my objects into floats "
   ]
  },
  {
   "cell_type": "code",
   "execution_count": 18,
   "id": "9533d0ec-f09e-4a9d-b26e-965c87b02771",
   "metadata": {},
   "outputs": [],
   "source": [
    "Df2[\"user_review\"] = Df2[\"user_review\"].astype(str).astype(float)\n"
   ]
  },
  {
   "cell_type": "code",
   "execution_count": 19,
   "id": "dca2f220-8029-4ab6-bc5c-6fdb61c99ade",
   "metadata": {},
   "outputs": [],
   "source": [
    "Df2[\"meta_score\"] = Df2[\"meta_score\"].astype(str).astype(float)\n"
   ]
  },
  {
   "cell_type": "code",
   "execution_count": 20,
   "id": "b65d3730-ce9d-45ec-906f-263462b70674",
   "metadata": {},
   "outputs": [
    {
     "name": "stdout",
     "output_type": "stream",
     "text": [
      "<class 'pandas.core.frame.DataFrame'>\n",
      "Int64Index: 11182 entries, 0 to 12253\n",
      "Data columns (total 6 columns):\n",
      " #   Column        Non-Null Count  Dtype  \n",
      "---  ------        --------------  -----  \n",
      " 0   name          11182 non-null  object \n",
      " 1   platform      11182 non-null  object \n",
      " 2   release_date  11182 non-null  object \n",
      " 3   s             11182 non-null  object \n",
      " 4   meta_score    11182 non-null  float64\n",
      " 5   user_review   11182 non-null  float64\n",
      "dtypes: float64(2), object(4)\n",
      "memory usage: 611.5+ KB\n"
     ]
    }
   ],
   "source": [
    "Df2.info()\n"
   ]
  },
  {
   "cell_type": "code",
   "execution_count": 21,
   "id": "72833ef2-1452-4b93-8acd-e94874829bb5",
   "metadata": {},
   "outputs": [
    {
     "data": {
      "text/html": [
       "<div>\n",
       "<style scoped>\n",
       "    .dataframe tbody tr th:only-of-type {\n",
       "        vertical-align: middle;\n",
       "    }\n",
       "\n",
       "    .dataframe tbody tr th {\n",
       "        vertical-align: top;\n",
       "    }\n",
       "\n",
       "    .dataframe thead th {\n",
       "        text-align: right;\n",
       "    }\n",
       "</style>\n",
       "<table border=\"1\" class=\"dataframe\">\n",
       "  <thead>\n",
       "    <tr style=\"text-align: right;\">\n",
       "      <th></th>\n",
       "      <th>meta_score</th>\n",
       "      <th>user_review</th>\n",
       "    </tr>\n",
       "  </thead>\n",
       "  <tbody>\n",
       "    <tr>\n",
       "      <th>count</th>\n",
       "      <td>11182.000000</td>\n",
       "      <td>11182.000000</td>\n",
       "    </tr>\n",
       "    <tr>\n",
       "      <th>mean</th>\n",
       "      <td>71.356108</td>\n",
       "      <td>7.070399</td>\n",
       "    </tr>\n",
       "    <tr>\n",
       "      <th>std</th>\n",
       "      <td>12.453150</td>\n",
       "      <td>1.336268</td>\n",
       "    </tr>\n",
       "    <tr>\n",
       "      <th>min</th>\n",
       "      <td>20.000000</td>\n",
       "      <td>0.500000</td>\n",
       "    </tr>\n",
       "    <tr>\n",
       "      <th>25%</th>\n",
       "      <td>65.000000</td>\n",
       "      <td>6.400000</td>\n",
       "    </tr>\n",
       "    <tr>\n",
       "      <th>50%</th>\n",
       "      <td>73.000000</td>\n",
       "      <td>7.400000</td>\n",
       "    </tr>\n",
       "    <tr>\n",
       "      <th>75%</th>\n",
       "      <td>80.000000</td>\n",
       "      <td>8.000000</td>\n",
       "    </tr>\n",
       "    <tr>\n",
       "      <th>max</th>\n",
       "      <td>99.000000</td>\n",
       "      <td>9.700000</td>\n",
       "    </tr>\n",
       "  </tbody>\n",
       "</table>\n",
       "</div>"
      ],
      "text/plain": [
       "         meta_score   user_review\n",
       "count  11182.000000  11182.000000\n",
       "mean      71.356108      7.070399\n",
       "std       12.453150      1.336268\n",
       "min       20.000000      0.500000\n",
       "25%       65.000000      6.400000\n",
       "50%       73.000000      7.400000\n",
       "75%       80.000000      8.000000\n",
       "max       99.000000      9.700000"
      ]
     },
     "execution_count": 21,
     "metadata": {},
     "output_type": "execute_result"
    }
   ],
   "source": [
    "Df2.describe()\n"
   ]
  },
  {
   "cell_type": "code",
   "execution_count": 22,
   "id": "c61ade8d-c309-45e7-baf7-c84912d96808",
   "metadata": {},
   "outputs": [],
   "source": [
    "##Getting rid of Dreamcast and Playstation Vita since they are both considered failed consoles \n"
   ]
  },
  {
   "cell_type": "code",
   "execution_count": 50,
   "id": "49e84c7c-4e2e-4606-972e-96e71cc92c5a",
   "metadata": {},
   "outputs": [],
   "source": [
    "Df3 = Df2[~Df2.platform.str.contains(\"Dreamcast\")]\n"
   ]
  },
  {
   "cell_type": "code",
   "execution_count": 51,
   "id": "65aabec3-a0a6-4300-b004-ef2c200d0f6d",
   "metadata": {},
   "outputs": [],
   "source": [
    "Df4 = Df3[~Df3.platform.str.contains(\"PlayStation Vita\")]\n"
   ]
  },
  {
   "cell_type": "code",
   "execution_count": 26,
   "id": "db5436ab-a563-453e-a911-7850a99ed8c6",
   "metadata": {},
   "outputs": [],
   "source": [
    "##Getting rid of games with a 65 or lower \n"
   ]
  },
  {
   "cell_type": "code",
   "execution_count": 27,
   "id": "72149dec-c7f7-4e46-8546-976a85eb4a47",
   "metadata": {},
   "outputs": [],
   "source": [
    "condition = Df4['meta_score'] > 65\n"
   ]
  },
  {
   "cell_type": "code",
   "execution_count": 28,
   "id": "a6e57a0f-a399-4962-9385-027e3da805e0",
   "metadata": {},
   "outputs": [],
   "source": [
    "true_index = condition[condition == True].index\n"
   ]
  },
  {
   "cell_type": "code",
   "execution_count": 29,
   "id": "fd1d8163-79d9-408d-a00e-a37b57e153ef",
   "metadata": {},
   "outputs": [],
   "source": [
    "Df5 = Df4[condition]\n"
   ]
  },
  {
   "cell_type": "code",
   "execution_count": 30,
   "id": "cb898ed6-3ee3-447d-8ef3-bca30f1e833e",
   "metadata": {},
   "outputs": [
    {
     "data": {
      "text/html": [
       "<div>\n",
       "<style scoped>\n",
       "    .dataframe tbody tr th:only-of-type {\n",
       "        vertical-align: middle;\n",
       "    }\n",
       "\n",
       "    .dataframe tbody tr th {\n",
       "        vertical-align: top;\n",
       "    }\n",
       "\n",
       "    .dataframe thead th {\n",
       "        text-align: right;\n",
       "    }\n",
       "</style>\n",
       "<table border=\"1\" class=\"dataframe\">\n",
       "  <thead>\n",
       "    <tr style=\"text-align: right;\">\n",
       "      <th></th>\n",
       "      <th>name</th>\n",
       "      <th>platform</th>\n",
       "      <th>release_date</th>\n",
       "      <th>s</th>\n",
       "      <th>meta_score</th>\n",
       "      <th>user_review</th>\n",
       "    </tr>\n",
       "  </thead>\n",
       "  <tbody>\n",
       "    <tr>\n",
       "      <th>0</th>\n",
       "      <td>The Legend of Zelda: Ocarina of Time</td>\n",
       "      <td>Nintendo 64</td>\n",
       "      <td>November 23, 1998</td>\n",
       "      <td>young boy link tricked ganondorf king gerudo t...</td>\n",
       "      <td>99.0</td>\n",
       "      <td>9.1</td>\n",
       "    </tr>\n",
       "    <tr>\n",
       "      <th>1</th>\n",
       "      <td>Tony Hawk's Pro Skater 2</td>\n",
       "      <td>PlayStation</td>\n",
       "      <td>September 20, 2000</td>\n",
       "      <td>major publishers development efforts shift num...</td>\n",
       "      <td>98.0</td>\n",
       "      <td>7.4</td>\n",
       "    </tr>\n",
       "    <tr>\n",
       "      <th>2</th>\n",
       "      <td>Grand Theft Auto IV</td>\n",
       "      <td>PlayStation 3</td>\n",
       "      <td>April 29, 2008</td>\n",
       "      <td>metacritics 2008 ps3 game year also known gta ...</td>\n",
       "      <td>98.0</td>\n",
       "      <td>7.7</td>\n",
       "    </tr>\n",
       "    <tr>\n",
       "      <th>4</th>\n",
       "      <td>Super Mario Galaxy</td>\n",
       "      <td>Wii</td>\n",
       "      <td>November 12, 2007</td>\n",
       "      <td>metacritics 2007 wii game year ultimate ninten...</td>\n",
       "      <td>97.0</td>\n",
       "      <td>9.1</td>\n",
       "    </tr>\n",
       "    <tr>\n",
       "      <th>5</th>\n",
       "      <td>Super Mario Galaxy 2</td>\n",
       "      <td>Wii</td>\n",
       "      <td>May 23, 2010</td>\n",
       "      <td>super mario galaxy 2 sequel galaxyhopping orig...</td>\n",
       "      <td>97.0</td>\n",
       "      <td>9.1</td>\n",
       "    </tr>\n",
       "    <tr>\n",
       "      <th>...</th>\n",
       "      <td>...</td>\n",
       "      <td>...</td>\n",
       "      <td>...</td>\n",
       "      <td>...</td>\n",
       "      <td>...</td>\n",
       "      <td>...</td>\n",
       "    </tr>\n",
       "    <tr>\n",
       "      <th>8688</th>\n",
       "      <td>AirForce Delta Strike</td>\n",
       "      <td>PlayStation 2</td>\n",
       "      <td>February 3, 2004</td>\n",
       "      <td>also known airforce delta blue wing knights st...</td>\n",
       "      <td>66.0</td>\n",
       "      <td>7.0</td>\n",
       "    </tr>\n",
       "    <tr>\n",
       "      <th>8689</th>\n",
       "      <td>American Conquest: Fight Back</td>\n",
       "      <td>PC</td>\n",
       "      <td>September 29, 2003</td>\n",
       "      <td>three centuries war continue even frantic comb...</td>\n",
       "      <td>66.0</td>\n",
       "      <td>8.1</td>\n",
       "    </tr>\n",
       "    <tr>\n",
       "      <th>8690</th>\n",
       "      <td>Tomb Raider: The Prophecy</td>\n",
       "      <td>Game Boy Advance</td>\n",
       "      <td>November 12, 2002</td>\n",
       "      <td>tomb raider prophecy delivers full tomb raider...</td>\n",
       "      <td>66.0</td>\n",
       "      <td>8.3</td>\n",
       "    </tr>\n",
       "    <tr>\n",
       "      <th>8691</th>\n",
       "      <td>Home Run King</td>\n",
       "      <td>GameCube</td>\n",
       "      <td>March 18, 2002</td>\n",
       "      <td>first pitch opening day final world series hom...</td>\n",
       "      <td>66.0</td>\n",
       "      <td>7.5</td>\n",
       "    </tr>\n",
       "    <tr>\n",
       "      <th>8693</th>\n",
       "      <td>Disney's The Emperor's New Groove</td>\n",
       "      <td>PlayStation</td>\n",
       "      <td>November 13, 2000</td>\n",
       "      <td>take selfabsorbed emperor named kuzco add devi...</td>\n",
       "      <td>66.0</td>\n",
       "      <td>7.3</td>\n",
       "    </tr>\n",
       "  </tbody>\n",
       "</table>\n",
       "<p>7951 rows × 6 columns</p>\n",
       "</div>"
      ],
      "text/plain": [
       "                                      name           platform  \\\n",
       "0     The Legend of Zelda: Ocarina of Time        Nintendo 64   \n",
       "1                 Tony Hawk's Pro Skater 2        PlayStation   \n",
       "2                      Grand Theft Auto IV      PlayStation 3   \n",
       "4                       Super Mario Galaxy                Wii   \n",
       "5                     Super Mario Galaxy 2                Wii   \n",
       "...                                    ...                ...   \n",
       "8688                 AirForce Delta Strike      PlayStation 2   \n",
       "8689         American Conquest: Fight Back                 PC   \n",
       "8690             Tomb Raider: The Prophecy   Game Boy Advance   \n",
       "8691                         Home Run King           GameCube   \n",
       "8693     Disney's The Emperor's New Groove        PlayStation   \n",
       "\n",
       "            release_date                                                  s  \\\n",
       "0      November 23, 1998  young boy link tricked ganondorf king gerudo t...   \n",
       "1     September 20, 2000  major publishers development efforts shift num...   \n",
       "2         April 29, 2008  metacritics 2008 ps3 game year also known gta ...   \n",
       "4      November 12, 2007  metacritics 2007 wii game year ultimate ninten...   \n",
       "5           May 23, 2010  super mario galaxy 2 sequel galaxyhopping orig...   \n",
       "...                  ...                                                ...   \n",
       "8688    February 3, 2004  also known airforce delta blue wing knights st...   \n",
       "8689  September 29, 2003  three centuries war continue even frantic comb...   \n",
       "8690   November 12, 2002  tomb raider prophecy delivers full tomb raider...   \n",
       "8691      March 18, 2002  first pitch opening day final world series hom...   \n",
       "8693   November 13, 2000  take selfabsorbed emperor named kuzco add devi...   \n",
       "\n",
       "      meta_score  user_review  \n",
       "0           99.0          9.1  \n",
       "1           98.0          7.4  \n",
       "2           98.0          7.7  \n",
       "4           97.0          9.1  \n",
       "5           97.0          9.1  \n",
       "...          ...          ...  \n",
       "8688        66.0          7.0  \n",
       "8689        66.0          8.1  \n",
       "8690        66.0          8.3  \n",
       "8691        66.0          7.5  \n",
       "8693        66.0          7.3  \n",
       "\n",
       "[7951 rows x 6 columns]"
      ]
     },
     "execution_count": 30,
     "metadata": {},
     "output_type": "execute_result"
    }
   ],
   "source": [
    "Df5\n"
   ]
  },
  {
   "cell_type": "code",
   "execution_count": 31,
   "id": "f5aa372d-c0dc-4f69-b298-63b46c4cc6ca",
   "metadata": {},
   "outputs": [
    {
     "data": {
      "text/plain": [
       "(7951, 6)"
      ]
     },
     "execution_count": 31,
     "metadata": {},
     "output_type": "execute_result"
    }
   ],
   "source": [
    "Df5.shape"
   ]
  },
  {
   "cell_type": "code",
   "execution_count": 59,
   "id": "945ae6ec-1638-4c64-84b2-94104b7d23f5",
   "metadata": {},
   "outputs": [
    {
     "data": {
      "image/png": "[encoded data removed]",
      "text/plain": [
       "<Figure size 720x504 with 1 Axes>"
      ]
     },
     "metadata": {
      "needs_background": "light"
     },
     "output_type": "display_data"
    }
   ],
   "source": [
    "plt.figure(figsize=(10,7))\n",
    "sns.boxplot(x='meta_score',y='platform',data=Df5)\n",
    "T = plt.title(\"Distribution of User Scores across diffrent platforms\")"
   ]
  },
  {
   "cell_type": "code",
   "execution_count": 36,
   "id": "af974312-852d-4305-8886-f6de86e4cd45",
   "metadata": {},
   "outputs": [
    {
     "data": {
      "text/html": [
       "<div>\n",
       "<style scoped>\n",
       "    .dataframe tbody tr th:only-of-type {\n",
       "        vertical-align: middle;\n",
       "    }\n",
       "\n",
       "    .dataframe tbody tr th {\n",
       "        vertical-align: top;\n",
       "    }\n",
       "\n",
       "    .dataframe thead th {\n",
       "        text-align: right;\n",
       "    }\n",
       "</style>\n",
       "<table border=\"1\" class=\"dataframe\">\n",
       "  <thead>\n",
       "    <tr style=\"text-align: right;\">\n",
       "      <th></th>\n",
       "      <th>platform</th>\n",
       "      <th>count</th>\n",
       "    </tr>\n",
       "  </thead>\n",
       "  <tbody>\n",
       "    <tr>\n",
       "      <th>0</th>\n",
       "      <td>PC</td>\n",
       "      <td>2587</td>\n",
       "    </tr>\n",
       "    <tr>\n",
       "      <th>1</th>\n",
       "      <td>PlayStation 4</td>\n",
       "      <td>698</td>\n",
       "    </tr>\n",
       "    <tr>\n",
       "      <th>2</th>\n",
       "      <td>Switch</td>\n",
       "      <td>592</td>\n",
       "    </tr>\n",
       "    <tr>\n",
       "      <th>3</th>\n",
       "      <td>Xbox 360</td>\n",
       "      <td>583</td>\n",
       "    </tr>\n",
       "    <tr>\n",
       "      <th>4</th>\n",
       "      <td>PlayStation 2</td>\n",
       "      <td>556</td>\n",
       "    </tr>\n",
       "    <tr>\n",
       "      <th>5</th>\n",
       "      <td>Xbox One</td>\n",
       "      <td>469</td>\n",
       "    </tr>\n",
       "    <tr>\n",
       "      <th>6</th>\n",
       "      <td>PlayStation 3</td>\n",
       "      <td>464</td>\n",
       "    </tr>\n",
       "    <tr>\n",
       "      <th>7</th>\n",
       "      <td>DS</td>\n",
       "      <td>326</td>\n",
       "    </tr>\n",
       "    <tr>\n",
       "      <th>8</th>\n",
       "      <td>Xbox</td>\n",
       "      <td>270</td>\n",
       "    </tr>\n",
       "    <tr>\n",
       "      <th>9</th>\n",
       "      <td>Wii</td>\n",
       "      <td>264</td>\n",
       "    </tr>\n",
       "    <tr>\n",
       "      <th>10</th>\n",
       "      <td>3DS</td>\n",
       "      <td>236</td>\n",
       "    </tr>\n",
       "    <tr>\n",
       "      <th>11</th>\n",
       "      <td>PSP</td>\n",
       "      <td>215</td>\n",
       "    </tr>\n",
       "    <tr>\n",
       "      <th>12</th>\n",
       "      <td>Game Boy Advance</td>\n",
       "      <td>210</td>\n",
       "    </tr>\n",
       "    <tr>\n",
       "      <th>13</th>\n",
       "      <td>GameCube</td>\n",
       "      <td>147</td>\n",
       "    </tr>\n",
       "    <tr>\n",
       "      <th>14</th>\n",
       "      <td>PlayStation</td>\n",
       "      <td>116</td>\n",
       "    </tr>\n",
       "    <tr>\n",
       "      <th>15</th>\n",
       "      <td>Wii U</td>\n",
       "      <td>93</td>\n",
       "    </tr>\n",
       "    <tr>\n",
       "      <th>16</th>\n",
       "      <td>Nintendo 64</td>\n",
       "      <td>56</td>\n",
       "    </tr>\n",
       "    <tr>\n",
       "      <th>17</th>\n",
       "      <td>PlayStation 5</td>\n",
       "      <td>45</td>\n",
       "    </tr>\n",
       "    <tr>\n",
       "      <th>18</th>\n",
       "      <td>Xbox Series X</td>\n",
       "      <td>21</td>\n",
       "    </tr>\n",
       "    <tr>\n",
       "      <th>19</th>\n",
       "      <td>Stadia</td>\n",
       "      <td>3</td>\n",
       "    </tr>\n",
       "  </tbody>\n",
       "</table>\n",
       "</div>"
      ],
      "text/plain": [
       "             platform  count\n",
       "0                  PC   2587\n",
       "1       PlayStation 4    698\n",
       "2              Switch    592\n",
       "3            Xbox 360    583\n",
       "4       PlayStation 2    556\n",
       "5            Xbox One    469\n",
       "6       PlayStation 3    464\n",
       "7                  DS    326\n",
       "8                Xbox    270\n",
       "9                 Wii    264\n",
       "10                3DS    236\n",
       "11                PSP    215\n",
       "12   Game Boy Advance    210\n",
       "13           GameCube    147\n",
       "14        PlayStation    116\n",
       "15              Wii U     93\n",
       "16        Nintendo 64     56\n",
       "17      PlayStation 5     45\n",
       "18      Xbox Series X     21\n",
       "19             Stadia      3"
      ]
     },
     "execution_count": 36,
     "metadata": {},
     "output_type": "execute_result"
    }
   ],
   "source": [
    "gpc = Df5['platform'].value_counts().reset_index()\n",
    "gpc.columns = ['platform', 'count']\n",
    "gpc"
   ]
  },
  {
   "cell_type": "code",
   "execution_count": 37,
   "id": "ea8eac4a-f78f-4818-aecc-a3b73d4035e2",
   "metadata": {},
   "outputs": [
    {
     "data": {
      "image/png": "[encoded data removed]",
      "text/plain": [
       "<Figure size 432x288 with 1 Axes>"
      ]
     },
     "metadata": {
      "needs_background": "light"
     },
     "output_type": "display_data"
    }
   ],
   "source": [
    "sns.barplot(x = 'count',y = 'platform', data = gpc);"
   ]
  },
  {
   "cell_type": "code",
   "execution_count": 62,
   "id": "6997e612-ea31-4a11-b477-1e9ffb029b01",
   "metadata": {},
   "outputs": [
    {
     "data": {
      "text/plain": [
       "RangeIndex(start=0, stop=7951, step=1)"
      ]
     },
     "execution_count": 62,
     "metadata": {},
     "output_type": "execute_result"
    }
   ],
   "source": [
    "Df5.reset_index(drop=True, inplace=True)\n",
    "\n",
    "Df5.index"
   ]
  },
  {
   "cell_type": "code",
   "execution_count": 66,
   "id": "7a33afc4-0f82-4dde-9d91-8c4c50598df8",
   "metadata": {},
   "outputs": [
    {
     "data": {
      "text/plain": [
       "(7951, 35249)"
      ]
     },
     "execution_count": 66,
     "metadata": {},
     "output_type": "execute_result"
    }
   ],
   "source": [
    "#First I did TF-IDF Vectorizer\n",
    "tfidf = TfidfVectorizer()\n",
    "\n",
    "#Created the matrix\n",
    "tfidf_matrix = tfidf.fit_transform([str(i) for i in Df5['s']])\n",
    "\n",
    "#Output the shape of matrix\n",
    "tfidf_matrix.shape"
   ]
  },
  {
   "cell_type": "code",
   "execution_count": 92,
   "id": "1a31ba94-d329-4dcd-bcc3-60d93e9ecec2",
   "metadata": {},
   "outputs": [],
   "source": [
    "#tfidf.get_feature_names()[1500:1550]"
   ]
  },
  {
   "cell_type": "code",
   "execution_count": 93,
   "id": "e3defc82-89c5-4d91-be2a-7f8adebd9aae",
   "metadata": {},
   "outputs": [
    {
     "data": {
      "text/plain": [
       "array([[1.        , 0.        , 0.02281944, ..., 0.        , 0.02704591,\n",
       "        0.00708825],\n",
       "       [0.        , 1.        , 0.007985  , ..., 0.        , 0.05278461,\n",
       "        0.        ],\n",
       "       [0.02281944, 0.007985  , 1.        , ..., 0.        , 0.01035871,\n",
       "        0.        ],\n",
       "       ...,\n",
       "       [0.        , 0.        , 0.        , ..., 1.        , 0.        ,\n",
       "        0.        ],\n",
       "       [0.02704591, 0.05278461, 0.01035871, ..., 0.        , 1.        ,\n",
       "        0.        ],\n",
       "       [0.00708825, 0.        , 0.        , ..., 0.        , 0.        ,\n",
       "        1.        ]])"
      ]
     },
     "execution_count": 93,
     "metadata": {},
     "output_type": "execute_result"
    }
   ],
   "source": [
    "cosine = linear_kernel(tfidf_matrix, tfidf_matrix)\n",
    "\n",
    "cosine"
   ]
  },
  {
   "cell_type": "code",
   "execution_count": 71,
   "id": "b843b789-86c4-4e06-b8ec-9061147cc52b",
   "metadata": {},
   "outputs": [
    {
     "data": {
      "text/plain": [
       "name\n",
       "The Legend of Zelda: Ocarina of Time       0\n",
       "Tony Hawk's Pro Skater 2                   1\n",
       "Grand Theft Auto IV                        2\n",
       "Super Mario Galaxy                         3\n",
       "Super Mario Galaxy 2                       4\n",
       "                                        ... \n",
       "AirForce Delta Strike                   7946\n",
       "American Conquest: Fight Back           7947\n",
       "Tomb Raider: The Prophecy               7948\n",
       "Home Run King                           7949\n",
       "Disney's The Emperor's New Groove       7950\n",
       "Length: 7951, dtype: int64"
      ]
     },
     "execution_count": 71,
     "metadata": {},
     "output_type": "execute_result"
    }
   ],
   "source": [
    "# reverse the indices and video game titles\n",
    "\n",
    "indices = pd.Series(Df5.index, index=Df5['name'])\n",
    "\n",
    "indices"
   ]
  },
  {
   "cell_type": "code",
   "execution_count": 94,
   "id": "d50e9a59-3e51-41f7-9688-2fa02de6320c",
   "metadata": {},
   "outputs": [],
   "source": [
    "def recommender_system(title, cosine=cosine):\n",
    "    \n",
    "    # get index of video game that matches title\n",
    "    \n",
    "    index = indices[title]\n",
    "    \n",
    "    # get pairwise similarity scores of all video games with the given title\n",
    "    \n",
    "    sim_scores = list(enumerate(cosine[index]))\n",
    "    \n",
    "    # sort games based on similarity scores\n",
    "    \n",
    "    sim_scores = sorted(sim_scores, key=lambda x: x[1], reverse=True)\n",
    "    \n",
    "    # get scores of 10 most similar video games\n",
    "    \n",
    "    sim_scores = sim_scores[1:11]\n",
    "    \n",
    "    # get game indices\n",
    "    \n",
    "    game_indices = [i[0] for i in sim_scores]\n",
    "    \n",
    "    # return top 10 most similar video games\n",
    "    \n",
    "    recs = Df5['name'].iloc[game_indices]\n",
    "    \n",
    "    return recs"
   ]
  },
  {
   "cell_type": "code",
   "execution_count": 95,
   "id": "bffcd431-bcbe-430d-9d5e-07ec32b593ad",
   "metadata": {},
   "outputs": [
    {
     "data": {
      "text/plain": [
       "2843                        Grand Theft Auto Online\n",
       "31                     Grand Theft Auto Double Pack\n",
       "601          Grand Theft Auto: Liberty City Stories\n",
       "7280                               Grand Theft Auto\n",
       "89                 Grand Theft Auto: Chinatown Wars\n",
       "300        Grand Theft Auto IV: The Lost and Damned\n",
       "5202           Oceanhorn: Monster of Uncharted Seas\n",
       "6059                                   Auto Assault\n",
       "2165         Clubhouse Games: 51 Worldwide Classics\n",
       "434     Grand Theft Auto IV: The Ballad of Gay Tony\n",
       "Name: name, dtype: object"
      ]
     },
     "execution_count": 95,
     "metadata": {},
     "output_type": "execute_result"
    }
   ],
   "source": [
    "recommender_system('Grand Theft Auto V')"
   ]
  },
  {
   "cell_type": "code",
   "execution_count": 76,
   "id": "836c4ab0-bbbc-42f5-b491-96eab9f18fca",
   "metadata": {},
   "outputs": [
    {
     "data": {
      "text/plain": [
       "2100                              Mario Kart Wii\n",
       "735                    New Super Mario Bros. Wii\n",
       "99                          Super Mario 3D World\n",
       "7049                        Mario Super Sluggers\n",
       "2030                    Super Mario 3D All-Stars\n",
       "156     Super Mario World: Super Mario Advance 2\n",
       "914                                  Punch-Out!!\n",
       "2694                           Wii Sports Resort\n",
       "3729                       Wario Land: Shake It!\n",
       "4380                    Mario & Luigi: Paper Jam\n",
       "Name: name, dtype: object"
      ]
     },
     "execution_count": 76,
     "metadata": {},
     "output_type": "execute_result"
    }
   ],
   "source": [
    "recommender_system('Super Mario Galaxy')"
   ]
  },
  {
   "cell_type": "code",
   "execution_count": 88,
   "id": "0c20a770-838c-4b9a-b3b1-bfe43ce775c5",
   "metadata": {},
   "outputs": [
    {
     "data": {
      "text/plain": [
       "2139       Far Cry 3: Blood Dragon\n",
       "6359            Dreamfall Chapters\n",
       "1950                          RiME\n",
       "275                      Far Cry 3\n",
       "2674                   Dead Island\n",
       "2434             Yoshi's Island DS\n",
       "4525     Paper Mario: Color Splash\n",
       "3646    Far Cry Instincts Predator\n",
       "5039                          XIII\n",
       "590                      Deathloop\n",
       "Name: name, dtype: object"
      ]
     },
     "execution_count": 88,
     "metadata": {},
     "output_type": "execute_result"
    }
   ],
   "source": [
    "recommender_system('Far Cry 6')"
   ]
  },
  {
   "cell_type": "code",
   "execution_count": 96,
   "id": "c17143be-a29a-46b4-ad31-16f379302f66",
   "metadata": {},
   "outputs": [
    {
     "data": {
      "text/plain": [
       "4742                                     Far Cry New Dawn\n",
       "3907                  Baldur's Gate: Siege of Dragonspear\n",
       "3422                      Baldur's Gate: Enhanced Edition\n",
       "3646                           Far Cry Instincts Predator\n",
       "2552    Baldur's Gate and Baldur's Gate II: Enhanced E...\n",
       "685                          Baldur's Gate: Dark Alliance\n",
       "2139                              Far Cry 3: Blood Dragon\n",
       "5405                                        Project Spark\n",
       "6076                         Far Cry 5: Hours of Darkness\n",
       "745                                          Icewind Dale\n",
       "Name: name, dtype: object"
      ]
     },
     "execution_count": 96,
     "metadata": {},
     "output_type": "execute_result"
    }
   ],
   "source": [
    "recommender_system(\"Far Cry 5\")"
   ]
  },
  {
   "cell_type": "code",
   "execution_count": null,
   "id": "1a07150d-994d-4f91-9d03-fef15402b4ba",
   "metadata": {},
   "outputs": [],
   "source": []
  }
 ],
 "metadata": {
  "kernelspec": {
   "display_name": "Python 3 (ipykernel)",
   "language": "python",
   "name": "python3"
  },
  "language_info": {
   "codemirror_mode": {
    "name": "ipython",
    "version": 3
   },
   "file_extension": ".py",
   "mimetype": "text/x-python",
   "name": "python",
   "nbconvert_exporter": "python",
   "pygments_lexer": "ipython3",
   "version": "3.9.7"
  }
 },
 "nbformat": 4,
 "nbformat_minor": 5
}
